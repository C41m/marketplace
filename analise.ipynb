{
 "cells": [
  {
   "cell_type": "code",
   "execution_count": 2,
   "id": "85626274-39ed-4a34-923f-8075335d7428",
   "metadata": {},
   "outputs": [],
   "source": [
    "import pandas as pd\n",
    "import re\n",
    "from haversine import haversine\n",
    "from datetime import datetime, timedelta\n",
    "import plotly.express as px\n",
    "import plotly.graph_objects as go\n",
    "\n",
    "import numpy as np\n"
   ]
  },
  {
   "cell_type": "code",
   "execution_count": 3,
   "id": "cb85c19c-ce6a-4937-8813-9e13a24f5c35",
   "metadata": {},
   "outputs": [],
   "source": [
    "df = pd.read_csv('dados/train.csv')\n",
    "df1 = df.copy()"
   ]
  },
  {
   "cell_type": "markdown",
   "id": "d1be420f-54a5-473c-bfb4-129e0f3ad576",
   "metadata": {},
   "source": [
    "# Transformação de Dados"
   ]
  },
  {
   "cell_type": "markdown",
   "id": "f4b1368d-ab4b-4259-97be-c68897560cf5",
   "metadata": {},
   "source": [
    "### Leitura do dados"
   ]
  },
  {
   "cell_type": "code",
   "execution_count": 4,
   "id": "c03d75d9-5fac-4231-b961-7c17146fa23c",
   "metadata": {
    "scrolled": true
   },
   "outputs": [
    {
     "data": {
      "text/html": [
       "<div>\n",
       "<style scoped>\n",
       "    .dataframe tbody tr th:only-of-type {\n",
       "        vertical-align: middle;\n",
       "    }\n",
       "\n",
       "    .dataframe tbody tr th {\n",
       "        vertical-align: top;\n",
       "    }\n",
       "\n",
       "    .dataframe thead th {\n",
       "        text-align: right;\n",
       "    }\n",
       "</style>\n",
       "<table border=\"1\" class=\"dataframe\">\n",
       "  <thead>\n",
       "    <tr style=\"text-align: right;\">\n",
       "      <th></th>\n",
       "      <th>ID</th>\n",
       "      <th>Delivery_person_ID</th>\n",
       "      <th>Delivery_person_Age</th>\n",
       "      <th>Delivery_person_Ratings</th>\n",
       "      <th>Restaurant_latitude</th>\n",
       "      <th>Restaurant_longitude</th>\n",
       "      <th>Delivery_location_latitude</th>\n",
       "      <th>Delivery_location_longitude</th>\n",
       "      <th>Order_Date</th>\n",
       "      <th>Time_Orderd</th>\n",
       "      <th>Time_Order_picked</th>\n",
       "      <th>Weatherconditions</th>\n",
       "      <th>Road_traffic_density</th>\n",
       "      <th>Vehicle_condition</th>\n",
       "      <th>Type_of_order</th>\n",
       "      <th>Type_of_vehicle</th>\n",
       "      <th>multiple_deliveries</th>\n",
       "      <th>Festival</th>\n",
       "      <th>City</th>\n",
       "      <th>Time_taken(min)</th>\n",
       "    </tr>\n",
       "  </thead>\n",
       "  <tbody>\n",
       "    <tr>\n",
       "      <th>0</th>\n",
       "      <td>0x4607</td>\n",
       "      <td>INDORES13DEL02</td>\n",
       "      <td>37</td>\n",
       "      <td>4.9</td>\n",
       "      <td>22.745049</td>\n",
       "      <td>75.892471</td>\n",
       "      <td>22.765049</td>\n",
       "      <td>75.912471</td>\n",
       "      <td>19-03-2022</td>\n",
       "      <td>11:30:00</td>\n",
       "      <td>11:45:00</td>\n",
       "      <td>conditions Sunny</td>\n",
       "      <td>High</td>\n",
       "      <td>2.0</td>\n",
       "      <td>Snack</td>\n",
       "      <td>motorcycle</td>\n",
       "      <td>0</td>\n",
       "      <td>No</td>\n",
       "      <td>Urban</td>\n",
       "      <td>(min) 24</td>\n",
       "    </tr>\n",
       "    <tr>\n",
       "      <th>1</th>\n",
       "      <td>0xb379</td>\n",
       "      <td>BANGRES18DEL02</td>\n",
       "      <td>34</td>\n",
       "      <td>4.5</td>\n",
       "      <td>12.913041</td>\n",
       "      <td>77.683237</td>\n",
       "      <td>13.043041</td>\n",
       "      <td>77.813237</td>\n",
       "      <td>25-03-2022</td>\n",
       "      <td>19:45:00</td>\n",
       "      <td>19:50:00</td>\n",
       "      <td>conditions Stormy</td>\n",
       "      <td>Jam</td>\n",
       "      <td>2.0</td>\n",
       "      <td>Snack</td>\n",
       "      <td>scooter</td>\n",
       "      <td>1</td>\n",
       "      <td>No</td>\n",
       "      <td>Metropolitian</td>\n",
       "      <td>(min) 33</td>\n",
       "    </tr>\n",
       "    <tr>\n",
       "      <th>2</th>\n",
       "      <td>0x5d6d</td>\n",
       "      <td>BANGRES19DEL01</td>\n",
       "      <td>23</td>\n",
       "      <td>4.4</td>\n",
       "      <td>12.914264</td>\n",
       "      <td>77.678400</td>\n",
       "      <td>12.924264</td>\n",
       "      <td>77.688400</td>\n",
       "      <td>19-03-2022</td>\n",
       "      <td>08:30:00</td>\n",
       "      <td>08:45:00</td>\n",
       "      <td>conditions Sandstorms</td>\n",
       "      <td>Low</td>\n",
       "      <td>0.0</td>\n",
       "      <td>Drinks</td>\n",
       "      <td>motorcycle</td>\n",
       "      <td>1</td>\n",
       "      <td>No</td>\n",
       "      <td>Urban</td>\n",
       "      <td>(min) 26</td>\n",
       "    </tr>\n",
       "    <tr>\n",
       "      <th>3</th>\n",
       "      <td>0x7a6a</td>\n",
       "      <td>COIMBRES13DEL02</td>\n",
       "      <td>38</td>\n",
       "      <td>4.7</td>\n",
       "      <td>11.003669</td>\n",
       "      <td>76.976494</td>\n",
       "      <td>11.053669</td>\n",
       "      <td>77.026494</td>\n",
       "      <td>05-04-2022</td>\n",
       "      <td>18:00:00</td>\n",
       "      <td>18:10:00</td>\n",
       "      <td>conditions Sunny</td>\n",
       "      <td>Medium</td>\n",
       "      <td>0.0</td>\n",
       "      <td>Buffet</td>\n",
       "      <td>motorcycle</td>\n",
       "      <td>1</td>\n",
       "      <td>No</td>\n",
       "      <td>Metropolitian</td>\n",
       "      <td>(min) 21</td>\n",
       "    </tr>\n",
       "    <tr>\n",
       "      <th>4</th>\n",
       "      <td>0x70a2</td>\n",
       "      <td>CHENRES12DEL01</td>\n",
       "      <td>32</td>\n",
       "      <td>4.6</td>\n",
       "      <td>12.972793</td>\n",
       "      <td>80.249982</td>\n",
       "      <td>13.012793</td>\n",
       "      <td>80.289982</td>\n",
       "      <td>26-03-2022</td>\n",
       "      <td>13:30:00</td>\n",
       "      <td>13:45:00</td>\n",
       "      <td>conditions Cloudy</td>\n",
       "      <td>High</td>\n",
       "      <td>1.0</td>\n",
       "      <td>Snack</td>\n",
       "      <td>scooter</td>\n",
       "      <td>1</td>\n",
       "      <td>No</td>\n",
       "      <td>Metropolitian</td>\n",
       "      <td>(min) 30</td>\n",
       "    </tr>\n",
       "    <tr>\n",
       "      <th>5</th>\n",
       "      <td>0x9bb4</td>\n",
       "      <td>HYDRES09DEL03</td>\n",
       "      <td>22</td>\n",
       "      <td>4.8</td>\n",
       "      <td>17.431668</td>\n",
       "      <td>78.408321</td>\n",
       "      <td>17.461668</td>\n",
       "      <td>78.438321</td>\n",
       "      <td>11-03-2022</td>\n",
       "      <td>21:20:00</td>\n",
       "      <td>21:30:00</td>\n",
       "      <td>conditions Cloudy</td>\n",
       "      <td>Jam</td>\n",
       "      <td>0.0</td>\n",
       "      <td>Buffet</td>\n",
       "      <td>motorcycle</td>\n",
       "      <td>1</td>\n",
       "      <td>No</td>\n",
       "      <td>Urban</td>\n",
       "      <td>(min) 26</td>\n",
       "    </tr>\n",
       "    <tr>\n",
       "      <th>6</th>\n",
       "      <td>0x95b4</td>\n",
       "      <td>RANCHIRES15DEL01</td>\n",
       "      <td>33</td>\n",
       "      <td>4.7</td>\n",
       "      <td>23.369746</td>\n",
       "      <td>85.339820</td>\n",
       "      <td>23.479746</td>\n",
       "      <td>85.449820</td>\n",
       "      <td>04-03-2022</td>\n",
       "      <td>19:15:00</td>\n",
       "      <td>19:30:00</td>\n",
       "      <td>conditions Fog</td>\n",
       "      <td>Jam</td>\n",
       "      <td>1.0</td>\n",
       "      <td>Meal</td>\n",
       "      <td>scooter</td>\n",
       "      <td>1</td>\n",
       "      <td>No</td>\n",
       "      <td>Metropolitian</td>\n",
       "      <td>(min) 40</td>\n",
       "    </tr>\n",
       "    <tr>\n",
       "      <th>7</th>\n",
       "      <td>0x9eb2</td>\n",
       "      <td>MYSRES15DEL02</td>\n",
       "      <td>35</td>\n",
       "      <td>4.6</td>\n",
       "      <td>12.352058</td>\n",
       "      <td>76.606650</td>\n",
       "      <td>12.482058</td>\n",
       "      <td>76.736650</td>\n",
       "      <td>14-03-2022</td>\n",
       "      <td>17:25:00</td>\n",
       "      <td>17:30:00</td>\n",
       "      <td>conditions Cloudy</td>\n",
       "      <td>Medium</td>\n",
       "      <td>2.0</td>\n",
       "      <td>Meal</td>\n",
       "      <td>motorcycle</td>\n",
       "      <td>1</td>\n",
       "      <td>No</td>\n",
       "      <td>Metropolitian</td>\n",
       "      <td>(min) 32</td>\n",
       "    </tr>\n",
       "    <tr>\n",
       "      <th>8</th>\n",
       "      <td>0x1102</td>\n",
       "      <td>HYDRES05DEL02</td>\n",
       "      <td>22</td>\n",
       "      <td>4.8</td>\n",
       "      <td>17.433809</td>\n",
       "      <td>78.386744</td>\n",
       "      <td>17.563809</td>\n",
       "      <td>78.516744</td>\n",
       "      <td>20-03-2022</td>\n",
       "      <td>20:55:00</td>\n",
       "      <td>21:05:00</td>\n",
       "      <td>conditions Stormy</td>\n",
       "      <td>Jam</td>\n",
       "      <td>0.0</td>\n",
       "      <td>Buffet</td>\n",
       "      <td>motorcycle</td>\n",
       "      <td>1</td>\n",
       "      <td>No</td>\n",
       "      <td>Metropolitian</td>\n",
       "      <td>(min) 34</td>\n",
       "    </tr>\n",
       "    <tr>\n",
       "      <th>9</th>\n",
       "      <td>0xcdcd</td>\n",
       "      <td>DEHRES17DEL01</td>\n",
       "      <td>36</td>\n",
       "      <td>4.2</td>\n",
       "      <td>30.327968</td>\n",
       "      <td>78.046106</td>\n",
       "      <td>30.397968</td>\n",
       "      <td>78.116106</td>\n",
       "      <td>12-02-2022</td>\n",
       "      <td>21:55:00</td>\n",
       "      <td>22:10:00</td>\n",
       "      <td>conditions Fog</td>\n",
       "      <td>Jam</td>\n",
       "      <td>2.0</td>\n",
       "      <td>Snack</td>\n",
       "      <td>motorcycle</td>\n",
       "      <td>3</td>\n",
       "      <td>No</td>\n",
       "      <td>Metropolitian</td>\n",
       "      <td>(min) 46</td>\n",
       "    </tr>\n",
       "    <tr>\n",
       "      <th>10</th>\n",
       "      <td>0xd987</td>\n",
       "      <td>KOCRES16DEL01</td>\n",
       "      <td>21</td>\n",
       "      <td>4.7</td>\n",
       "      <td>10.003064</td>\n",
       "      <td>76.307589</td>\n",
       "      <td>10.043064</td>\n",
       "      <td>76.347589</td>\n",
       "      <td>13-02-2022</td>\n",
       "      <td>14:55:00</td>\n",
       "      <td>15:05:00</td>\n",
       "      <td>conditions Stormy</td>\n",
       "      <td>High</td>\n",
       "      <td>1.0</td>\n",
       "      <td>Meal</td>\n",
       "      <td>motorcycle</td>\n",
       "      <td>1</td>\n",
       "      <td>No</td>\n",
       "      <td>Metropolitian</td>\n",
       "      <td>(min) 23</td>\n",
       "    </tr>\n",
       "    <tr>\n",
       "      <th>11</th>\n",
       "      <td>0x2784</td>\n",
       "      <td>PUNERES13DEL03</td>\n",
       "      <td>23</td>\n",
       "      <td>4.7</td>\n",
       "      <td>18.562450</td>\n",
       "      <td>73.916619</td>\n",
       "      <td>18.652450</td>\n",
       "      <td>74.006619</td>\n",
       "      <td>04-03-2022</td>\n",
       "      <td>17:30:00</td>\n",
       "      <td>17:40:00</td>\n",
       "      <td>conditions Sandstorms</td>\n",
       "      <td>Medium</td>\n",
       "      <td>1.0</td>\n",
       "      <td>Drinks</td>\n",
       "      <td>scooter</td>\n",
       "      <td>1</td>\n",
       "      <td>No</td>\n",
       "      <td>Metropolitian</td>\n",
       "      <td>(min) 21</td>\n",
       "    </tr>\n",
       "    <tr>\n",
       "      <th>12</th>\n",
       "      <td>0xc8b6</td>\n",
       "      <td>LUDHRES15DEL02</td>\n",
       "      <td>34</td>\n",
       "      <td>4.3</td>\n",
       "      <td>30.899584</td>\n",
       "      <td>75.809346</td>\n",
       "      <td>30.919584</td>\n",
       "      <td>75.829346</td>\n",
       "      <td>13-02-2022</td>\n",
       "      <td>09:20:00</td>\n",
       "      <td>09:30:00</td>\n",
       "      <td>conditions Sandstorms</td>\n",
       "      <td>Low</td>\n",
       "      <td>0.0</td>\n",
       "      <td>Buffet</td>\n",
       "      <td>motorcycle</td>\n",
       "      <td>0</td>\n",
       "      <td>No</td>\n",
       "      <td>Metropolitian</td>\n",
       "      <td>(min) 20</td>\n",
       "    </tr>\n",
       "    <tr>\n",
       "      <th>13</th>\n",
       "      <td>0xdb64</td>\n",
       "      <td>KNPRES14DEL02</td>\n",
       "      <td>24</td>\n",
       "      <td>4.7</td>\n",
       "      <td>26.463504</td>\n",
       "      <td>80.372929</td>\n",
       "      <td>26.593504</td>\n",
       "      <td>80.502929</td>\n",
       "      <td>14-02-2022</td>\n",
       "      <td>19:50:00</td>\n",
       "      <td>20:05:00</td>\n",
       "      <td>conditions Fog</td>\n",
       "      <td>Jam</td>\n",
       "      <td>1.0</td>\n",
       "      <td>Snack</td>\n",
       "      <td>scooter</td>\n",
       "      <td>1</td>\n",
       "      <td>No</td>\n",
       "      <td>Metropolitian</td>\n",
       "      <td>(min) 41</td>\n",
       "    </tr>\n",
       "    <tr>\n",
       "      <th>14</th>\n",
       "      <td>0x3af3</td>\n",
       "      <td>MUMRES15DEL03</td>\n",
       "      <td>29</td>\n",
       "      <td>4.5</td>\n",
       "      <td>19.176269</td>\n",
       "      <td>72.836721</td>\n",
       "      <td>19.266269</td>\n",
       "      <td>72.926721</td>\n",
       "      <td>02-04-2022</td>\n",
       "      <td>20:25:00</td>\n",
       "      <td>20:35:00</td>\n",
       "      <td>conditions Sandstorms</td>\n",
       "      <td>Jam</td>\n",
       "      <td>2.0</td>\n",
       "      <td>Buffet</td>\n",
       "      <td>electric_scooter</td>\n",
       "      <td>1</td>\n",
       "      <td>No</td>\n",
       "      <td>Metropolitian</td>\n",
       "      <td>(min) 20</td>\n",
       "    </tr>\n",
       "    <tr>\n",
       "      <th>15</th>\n",
       "      <td>0x3aab</td>\n",
       "      <td>MYSRES01DEL01</td>\n",
       "      <td>35</td>\n",
       "      <td>4</td>\n",
       "      <td>12.311072</td>\n",
       "      <td>76.654878</td>\n",
       "      <td>12.351072</td>\n",
       "      <td>76.694878</td>\n",
       "      <td>01-03-2022</td>\n",
       "      <td>14:55:00</td>\n",
       "      <td>15:10:00</td>\n",
       "      <td>conditions Windy</td>\n",
       "      <td>High</td>\n",
       "      <td>1.0</td>\n",
       "      <td>Meal</td>\n",
       "      <td>scooter</td>\n",
       "      <td>1</td>\n",
       "      <td>No</td>\n",
       "      <td>Metropolitian</td>\n",
       "      <td>(min) 33</td>\n",
       "    </tr>\n",
       "    <tr>\n",
       "      <th>16</th>\n",
       "      <td>0x689b</td>\n",
       "      <td>PUNERES20DEL01</td>\n",
       "      <td>33</td>\n",
       "      <td>4.2</td>\n",
       "      <td>18.592718</td>\n",
       "      <td>73.773572</td>\n",
       "      <td>18.702718</td>\n",
       "      <td>73.883572</td>\n",
       "      <td>16-03-2022</td>\n",
       "      <td>20:30:00</td>\n",
       "      <td>20:40:00</td>\n",
       "      <td>conditions Sandstorms</td>\n",
       "      <td>Jam</td>\n",
       "      <td>2.0</td>\n",
       "      <td>Snack</td>\n",
       "      <td>motorcycle</td>\n",
       "      <td>1</td>\n",
       "      <td>No</td>\n",
       "      <td>Metropolitian</td>\n",
       "      <td>(min) 40</td>\n",
       "    </tr>\n",
       "    <tr>\n",
       "      <th>17</th>\n",
       "      <td>0x6f67</td>\n",
       "      <td>HYDRES14DEL01</td>\n",
       "      <td>34</td>\n",
       "      <td>4.9</td>\n",
       "      <td>17.426228</td>\n",
       "      <td>78.407495</td>\n",
       "      <td>17.496228</td>\n",
       "      <td>78.477495</td>\n",
       "      <td>20-03-2022</td>\n",
       "      <td>20:40:00</td>\n",
       "      <td>20:50:00</td>\n",
       "      <td>conditions Cloudy</td>\n",
       "      <td>Jam</td>\n",
       "      <td>0.0</td>\n",
       "      <td>Snack</td>\n",
       "      <td>motorcycle</td>\n",
       "      <td>NaN</td>\n",
       "      <td>No</td>\n",
       "      <td>Metropolitian</td>\n",
       "      <td>(min) 41</td>\n",
       "    </tr>\n",
       "    <tr>\n",
       "      <th>18</th>\n",
       "      <td>0xc9cf</td>\n",
       "      <td>KOLRES15DEL03</td>\n",
       "      <td>21</td>\n",
       "      <td>4.7</td>\n",
       "      <td>22.552672</td>\n",
       "      <td>88.352885</td>\n",
       "      <td>22.582672</td>\n",
       "      <td>88.382885</td>\n",
       "      <td>15-02-2022</td>\n",
       "      <td>21:15:00</td>\n",
       "      <td>21:30:00</td>\n",
       "      <td>conditions Windy</td>\n",
       "      <td>Jam</td>\n",
       "      <td>0.0</td>\n",
       "      <td>Meal</td>\n",
       "      <td>motorcycle</td>\n",
       "      <td>1</td>\n",
       "      <td>No</td>\n",
       "      <td>Urban</td>\n",
       "      <td>(min) 15</td>\n",
       "    </tr>\n",
       "    <tr>\n",
       "      <th>19</th>\n",
       "      <td>0x36b8</td>\n",
       "      <td>PUNERES19DEL02</td>\n",
       "      <td>25</td>\n",
       "      <td>4.1</td>\n",
       "      <td>18.563934</td>\n",
       "      <td>73.915367</td>\n",
       "      <td>18.643935</td>\n",
       "      <td>73.995367</td>\n",
       "      <td>16-03-2022</td>\n",
       "      <td>20:20:00</td>\n",
       "      <td>20:25:00</td>\n",
       "      <td>conditions Sandstorms</td>\n",
       "      <td>Jam</td>\n",
       "      <td>0.0</td>\n",
       "      <td>Snack</td>\n",
       "      <td>motorcycle</td>\n",
       "      <td>2</td>\n",
       "      <td>No</td>\n",
       "      <td>Metropolitian</td>\n",
       "      <td>(min) 36</td>\n",
       "    </tr>\n",
       "  </tbody>\n",
       "</table>\n",
       "</div>"
      ],
      "text/plain": [
       "         ID Delivery_person_ID Delivery_person_Age Delivery_person_Ratings  \\\n",
       "0   0x4607     INDORES13DEL02                   37                     4.9   \n",
       "1   0xb379     BANGRES18DEL02                   34                     4.5   \n",
       "2   0x5d6d     BANGRES19DEL01                   23                     4.4   \n",
       "3   0x7a6a    COIMBRES13DEL02                   38                     4.7   \n",
       "4   0x70a2     CHENRES12DEL01                   32                     4.6   \n",
       "5   0x9bb4      HYDRES09DEL03                   22                     4.8   \n",
       "6   0x95b4   RANCHIRES15DEL01                   33                     4.7   \n",
       "7   0x9eb2      MYSRES15DEL02                   35                     4.6   \n",
       "8   0x1102      HYDRES05DEL02                   22                     4.8   \n",
       "9   0xcdcd      DEHRES17DEL01                   36                     4.2   \n",
       "10  0xd987      KOCRES16DEL01                   21                     4.7   \n",
       "11  0x2784     PUNERES13DEL03                   23                     4.7   \n",
       "12  0xc8b6     LUDHRES15DEL02                   34                     4.3   \n",
       "13  0xdb64      KNPRES14DEL02                   24                     4.7   \n",
       "14  0x3af3      MUMRES15DEL03                   29                     4.5   \n",
       "15  0x3aab      MYSRES01DEL01                   35                       4   \n",
       "16  0x689b     PUNERES20DEL01                   33                     4.2   \n",
       "17  0x6f67      HYDRES14DEL01                   34                     4.9   \n",
       "18  0xc9cf      KOLRES15DEL03                   21                     4.7   \n",
       "19  0x36b8     PUNERES19DEL02                   25                     4.1   \n",
       "\n",
       "    Restaurant_latitude  Restaurant_longitude  Delivery_location_latitude  \\\n",
       "0             22.745049             75.892471                   22.765049   \n",
       "1             12.913041             77.683237                   13.043041   \n",
       "2             12.914264             77.678400                   12.924264   \n",
       "3             11.003669             76.976494                   11.053669   \n",
       "4             12.972793             80.249982                   13.012793   \n",
       "5             17.431668             78.408321                   17.461668   \n",
       "6             23.369746             85.339820                   23.479746   \n",
       "7             12.352058             76.606650                   12.482058   \n",
       "8             17.433809             78.386744                   17.563809   \n",
       "9             30.327968             78.046106                   30.397968   \n",
       "10            10.003064             76.307589                   10.043064   \n",
       "11            18.562450             73.916619                   18.652450   \n",
       "12            30.899584             75.809346                   30.919584   \n",
       "13            26.463504             80.372929                   26.593504   \n",
       "14            19.176269             72.836721                   19.266269   \n",
       "15            12.311072             76.654878                   12.351072   \n",
       "16            18.592718             73.773572                   18.702718   \n",
       "17            17.426228             78.407495                   17.496228   \n",
       "18            22.552672             88.352885                   22.582672   \n",
       "19            18.563934             73.915367                   18.643935   \n",
       "\n",
       "    Delivery_location_longitude  Order_Date Time_Orderd Time_Order_picked  \\\n",
       "0                     75.912471  19-03-2022    11:30:00          11:45:00   \n",
       "1                     77.813237  25-03-2022    19:45:00          19:50:00   \n",
       "2                     77.688400  19-03-2022    08:30:00          08:45:00   \n",
       "3                     77.026494  05-04-2022    18:00:00          18:10:00   \n",
       "4                     80.289982  26-03-2022    13:30:00          13:45:00   \n",
       "5                     78.438321  11-03-2022    21:20:00          21:30:00   \n",
       "6                     85.449820  04-03-2022    19:15:00          19:30:00   \n",
       "7                     76.736650  14-03-2022    17:25:00          17:30:00   \n",
       "8                     78.516744  20-03-2022    20:55:00          21:05:00   \n",
       "9                     78.116106  12-02-2022    21:55:00          22:10:00   \n",
       "10                    76.347589  13-02-2022    14:55:00          15:05:00   \n",
       "11                    74.006619  04-03-2022    17:30:00          17:40:00   \n",
       "12                    75.829346  13-02-2022    09:20:00          09:30:00   \n",
       "13                    80.502929  14-02-2022    19:50:00          20:05:00   \n",
       "14                    72.926721  02-04-2022    20:25:00          20:35:00   \n",
       "15                    76.694878  01-03-2022    14:55:00          15:10:00   \n",
       "16                    73.883572  16-03-2022    20:30:00          20:40:00   \n",
       "17                    78.477495  20-03-2022    20:40:00          20:50:00   \n",
       "18                    88.382885  15-02-2022    21:15:00          21:30:00   \n",
       "19                    73.995367  16-03-2022    20:20:00          20:25:00   \n",
       "\n",
       "        Weatherconditions Road_traffic_density  Vehicle_condition  \\\n",
       "0        conditions Sunny                High                 2.0   \n",
       "1       conditions Stormy                 Jam                 2.0   \n",
       "2   conditions Sandstorms                 Low                 0.0   \n",
       "3        conditions Sunny              Medium                 0.0   \n",
       "4       conditions Cloudy                High                 1.0   \n",
       "5       conditions Cloudy                 Jam                 0.0   \n",
       "6          conditions Fog                 Jam                 1.0   \n",
       "7       conditions Cloudy              Medium                 2.0   \n",
       "8       conditions Stormy                 Jam                 0.0   \n",
       "9          conditions Fog                 Jam                 2.0   \n",
       "10      conditions Stormy                High                 1.0   \n",
       "11  conditions Sandstorms              Medium                 1.0   \n",
       "12  conditions Sandstorms                 Low                 0.0   \n",
       "13         conditions Fog                 Jam                 1.0   \n",
       "14  conditions Sandstorms                 Jam                 2.0   \n",
       "15       conditions Windy                High                 1.0   \n",
       "16  conditions Sandstorms                 Jam                 2.0   \n",
       "17      conditions Cloudy                 Jam                 0.0   \n",
       "18       conditions Windy                 Jam                 0.0   \n",
       "19  conditions Sandstorms                 Jam                 0.0   \n",
       "\n",
       "   Type_of_order    Type_of_vehicle multiple_deliveries Festival  \\\n",
       "0         Snack         motorcycle                    0      No    \n",
       "1         Snack            scooter                    1      No    \n",
       "2        Drinks         motorcycle                    1      No    \n",
       "3        Buffet         motorcycle                    1      No    \n",
       "4         Snack            scooter                    1      No    \n",
       "5        Buffet         motorcycle                    1      No    \n",
       "6          Meal            scooter                    1      No    \n",
       "7          Meal         motorcycle                    1      No    \n",
       "8        Buffet         motorcycle                    1      No    \n",
       "9         Snack         motorcycle                    3      No    \n",
       "10         Meal         motorcycle                    1      No    \n",
       "11       Drinks            scooter                    1      No    \n",
       "12       Buffet         motorcycle                    0      No    \n",
       "13        Snack            scooter                    1      No    \n",
       "14       Buffet   electric_scooter                    1      No    \n",
       "15         Meal            scooter                    1      No    \n",
       "16        Snack         motorcycle                    1      No    \n",
       "17        Snack         motorcycle                 NaN       No    \n",
       "18         Meal         motorcycle                    1      No    \n",
       "19        Snack         motorcycle                    2      No    \n",
       "\n",
       "              City Time_taken(min)  \n",
       "0           Urban         (min) 24  \n",
       "1   Metropolitian         (min) 33  \n",
       "2           Urban         (min) 26  \n",
       "3   Metropolitian         (min) 21  \n",
       "4   Metropolitian         (min) 30  \n",
       "5           Urban         (min) 26  \n",
       "6   Metropolitian         (min) 40  \n",
       "7   Metropolitian         (min) 32  \n",
       "8   Metropolitian         (min) 34  \n",
       "9   Metropolitian         (min) 46  \n",
       "10  Metropolitian         (min) 23  \n",
       "11  Metropolitian         (min) 21  \n",
       "12  Metropolitian         (min) 20  \n",
       "13  Metropolitian         (min) 41  \n",
       "14  Metropolitian         (min) 20  \n",
       "15  Metropolitian         (min) 33  \n",
       "16  Metropolitian         (min) 40  \n",
       "17  Metropolitian         (min) 41  \n",
       "18          Urban         (min) 15  \n",
       "19  Metropolitian         (min) 36  "
      ]
     },
     "execution_count": 4,
     "metadata": {},
     "output_type": "execute_result"
    }
   ],
   "source": [
    "df1.head(20)"
   ]
  },
  {
   "cell_type": "code",
   "execution_count": 5,
   "id": "6b60b26e-8b6d-4e7d-bcb6-2328ce8adff0",
   "metadata": {},
   "outputs": [
    {
     "data": {
      "text/plain": [
       "ID                              object\n",
       "Delivery_person_ID              object\n",
       "Delivery_person_Age             object\n",
       "Delivery_person_Ratings         object\n",
       "Restaurant_latitude            float64\n",
       "Restaurant_longitude           float64\n",
       "Delivery_location_latitude     float64\n",
       "Delivery_location_longitude    float64\n",
       "Order_Date                      object\n",
       "Time_Orderd                     object\n",
       "Time_Order_picked               object\n",
       "Weatherconditions               object\n",
       "Road_traffic_density            object\n",
       "Vehicle_condition              float64\n",
       "Type_of_order                   object\n",
       "Type_of_vehicle                 object\n",
       "multiple_deliveries             object\n",
       "Festival                        object\n",
       "City                            object\n",
       "Time_taken(min)                 object\n",
       "dtype: object"
      ]
     },
     "execution_count": 5,
     "metadata": {},
     "output_type": "execute_result"
    }
   ],
   "source": [
    "df1.dtypes"
   ]
  },
  {
   "cell_type": "markdown",
   "id": "d690e4f3-3866-42fc-bc6f-e2490ab8623d",
   "metadata": {},
   "source": [
    "### Remover espaços vazios strip em toda a tabela"
   ]
  },
  {
   "cell_type": "code",
   "execution_count": 6,
   "id": "318fdddb-58d4-4e5b-bca2-9b54006e3c53",
   "metadata": {},
   "outputs": [],
   "source": [
    "tipos_de_dados = df.dtypes\n",
    "df1 = df1.reset_index(drop=True) # Quando remove-se linhas ele também mata a linha do index.\n",
    "for column, tipo in tipos_de_dados.items():\n",
    "    if tipo == 'object':\n",
    "        df1[column] = df[column].str.strip()\n"
   ]
  },
  {
   "cell_type": "markdown",
   "id": "fdcb044f-ccf2-40c1-8190-9e501b0e1cf6",
   "metadata": {},
   "source": [
    "### Remover linhas NaN de várias colunas"
   ]
  },
  {
   "cell_type": "code",
   "execution_count": 7,
   "id": "c1f92527-5069-4875-8a12-c5a9dc7fc7eb",
   "metadata": {},
   "outputs": [],
   "source": [
    "linhas_selecionadas = df1['Delivery_person_Age'] != 'NaN'\n",
    "df1 = df1.loc[linhas_selecionadas, :].copy()\n",
    "df1.dropna(subset=['Delivery_person_Age'], inplace=True)\n",
    "\n",
    "linhas_selecionadas = df1['multiple_deliveries'] != 'NaN'\n",
    "df1 = df1.loc[linhas_selecionadas, :].copy()\n",
    "df1.dropna(subset=['multiple_deliveries'], inplace=True)\n",
    "\n",
    "linhas_selecionadas = df1['Road_traffic_density'] != 'NaN'\n",
    "df1 = df1.loc[linhas_selecionadas, :].copy()\n",
    "df1.dropna(subset=['Road_traffic_density'], inplace=True)\n",
    "\n",
    "linhas_selecionadas = df1['City'] != 'NaN'\n",
    "df1 = df1.loc[linhas_selecionadas, :].copy()\n",
    "df1.dropna(subset=['City'], inplace=True)\n",
    "\n",
    "linhas_selecionadas = df1['Festival'] != 'NaN'\n",
    "df1 = df1.loc[linhas_selecionadas, :].copy()\n",
    "df1.dropna(subset=['Festival'], inplace=True)\n"
   ]
  },
  {
   "cell_type": "markdown",
   "id": "1be3b8f0-4259-46ec-ae4d-dd0cdd91f50c",
   "metadata": {},
   "source": [
    "### Removendo o texto inteiro da coluna de Time_taken"
   ]
  },
  {
   "cell_type": "code",
   "execution_count": 8,
   "id": "430c1c84-3192-43d6-984b-86272cad1e13",
   "metadata": {},
   "outputs": [],
   "source": [
    "df1['Time_taken(min)'] = df1['Time_taken(min)'].str.replace(r'\\(min\\)', '', regex=True)"
   ]
  },
  {
   "cell_type": "markdown",
   "id": "b0f2fd9a-ad4b-4b47-a401-f6548b47b867",
   "metadata": {},
   "source": [
    "### Converter colunas"
   ]
  },
  {
   "cell_type": "code",
   "execution_count": 9,
   "id": "2e9d24cd-9d55-416a-91c8-72932f419a30",
   "metadata": {},
   "outputs": [],
   "source": [
    "df1['Delivery_person_Age'] = df1['Delivery_person_Age'].astype(int)\n",
    "df1['Delivery_person_Ratings'] = df1['Delivery_person_Ratings'].astype(float)\n",
    "df1['Order_Date'] = pd.to_datetime(df1['Order_Date'], format='%d-%m-%Y')\n",
    "df1['multiple_deliveries'] = df1['multiple_deliveries'].astype(int)\n",
    "df1['Time_taken(min)'] = df1['Time_taken(min)'].astype(int)"
   ]
  },
  {
   "cell_type": "markdown",
   "id": "e626cd1c-313b-4540-b8dd-2818f28ccc35",
   "metadata": {},
   "source": [
    "# Analise de Dados"
   ]
  },
  {
   "cell_type": "markdown",
   "id": "d66bb046-14be-4588-8f1c-5b84f0fc2a10",
   "metadata": {},
   "source": [
    "### Quantidade de Entregas"
   ]
  },
  {
   "cell_type": "code",
   "execution_count": 10,
   "id": "0bd0235e-a529-4c2b-960e-188fea3b39d1",
   "metadata": {},
   "outputs": [
    {
     "data": {
      "application/vnd.plotly.v1+json": {
       "config": {
        "plotlyServerURL": "https://plot.ly"
       },
       "data": [
        {
         "alignmentgroup": "True",
         "hovertemplate": "Order_Date=%{x}<br>ID=%{marker.color}<extra></extra>",
         "legendgroup": "",
         "marker": {
          "color": [
           158,
           142,
           138,
           122,
           149,
           137,
           146,
           142,
           175,
           148,
           169,
           132,
           181,
           153,
           187,
           151,
           178,
           156,
           193,
           160,
           173,
           140,
           184,
           154,
           183,
           149,
           170,
           160,
           182,
           146,
           144,
           136,
           211,
           163,
           185,
           140,
           162,
           157,
           194,
           162,
           169,
           146,
           156,
           161
          ],
          "coloraxis": "coloraxis",
          "pattern": {
           "shape": ""
          }
         },
         "name": "",
         "offsetgroup": "",
         "orientation": "v",
         "showlegend": false,
         "textposition": "auto",
         "type": "bar",
         "x": [
          "2022-02-11T00:00:00",
          "2022-02-12T00:00:00",
          "2022-02-13T00:00:00",
          "2022-02-14T00:00:00",
          "2022-02-15T00:00:00",
          "2022-02-16T00:00:00",
          "2022-02-17T00:00:00",
          "2022-02-18T00:00:00",
          "2022-03-01T00:00:00",
          "2022-03-02T00:00:00",
          "2022-03-03T00:00:00",
          "2022-03-04T00:00:00",
          "2022-03-05T00:00:00",
          "2022-03-06T00:00:00",
          "2022-03-07T00:00:00",
          "2022-03-08T00:00:00",
          "2022-03-09T00:00:00",
          "2022-03-10T00:00:00",
          "2022-03-11T00:00:00",
          "2022-03-12T00:00:00",
          "2022-03-13T00:00:00",
          "2022-03-14T00:00:00",
          "2022-03-15T00:00:00",
          "2022-03-16T00:00:00",
          "2022-03-17T00:00:00",
          "2022-03-18T00:00:00",
          "2022-03-19T00:00:00",
          "2022-03-20T00:00:00",
          "2022-03-21T00:00:00",
          "2022-03-23T00:00:00",
          "2022-03-24T00:00:00",
          "2022-03-25T00:00:00",
          "2022-03-26T00:00:00",
          "2022-03-27T00:00:00",
          "2022-03-28T00:00:00",
          "2022-03-29T00:00:00",
          "2022-03-30T00:00:00",
          "2022-03-31T00:00:00",
          "2022-04-01T00:00:00",
          "2022-04-02T00:00:00",
          "2022-04-03T00:00:00",
          "2022-04-04T00:00:00",
          "2022-04-05T00:00:00",
          "2022-04-06T00:00:00"
         ],
         "xaxis": "x",
         "y": [
          158,
          142,
          138,
          122,
          149,
          137,
          146,
          142,
          175,
          148,
          169,
          132,
          181,
          153,
          187,
          151,
          178,
          156,
          193,
          160,
          173,
          140,
          184,
          154,
          183,
          149,
          170,
          160,
          182,
          146,
          144,
          136,
          211,
          163,
          185,
          140,
          162,
          157,
          194,
          162,
          169,
          146,
          156,
          161
         ],
         "yaxis": "y"
        }
       ],
       "layout": {
        "annotations": [
         {
          "showarrow": false,
          "text": "Média: 160.09",
          "x": 1,
          "xanchor": "right",
          "xref": "x domain",
          "y": 160.0909090909091,
          "yanchor": "bottom",
          "yref": "y"
         }
        ],
        "barmode": "relative",
        "coloraxis": {
         "colorbar": {
          "title": {
           "text": "ID"
          }
         },
         "colorscale": [
          [
           0,
           "#0d0887"
          ],
          [
           0.1111111111111111,
           "#46039f"
          ],
          [
           0.2222222222222222,
           "#7201a8"
          ],
          [
           0.3333333333333333,
           "#9c179e"
          ],
          [
           0.4444444444444444,
           "#bd3786"
          ],
          [
           0.5555555555555556,
           "#d8576b"
          ],
          [
           0.6666666666666666,
           "#ed7953"
          ],
          [
           0.7777777777777778,
           "#fb9f3a"
          ],
          [
           0.8888888888888888,
           "#fdca26"
          ],
          [
           1,
           "#f0f921"
          ]
         ]
        },
        "legend": {
         "tracegroupgap": 0
        },
        "margin": {
         "t": 60
        },
        "shapes": [
         {
          "line": {
           "color": "red",
           "dash": "dash"
          },
          "type": "line",
          "x0": 0,
          "x1": 1,
          "xref": "x domain",
          "y0": 160.0909090909091,
          "y1": 160.0909090909091,
          "yref": "y"
         }
        ],
        "template": {
         "data": {
          "bar": [
           {
            "error_x": {
             "color": "#2a3f5f"
            },
            "error_y": {
             "color": "#2a3f5f"
            },
            "marker": {
             "line": {
              "color": "#E5ECF6",
              "width": 0.5
             },
             "pattern": {
              "fillmode": "overlay",
              "size": 10,
              "solidity": 0.2
             }
            },
            "type": "bar"
           }
          ],
          "barpolar": [
           {
            "marker": {
             "line": {
              "color": "#E5ECF6",
              "width": 0.5
             },
             "pattern": {
              "fillmode": "overlay",
              "size": 10,
              "solidity": 0.2
             }
            },
            "type": "barpolar"
           }
          ],
          "carpet": [
           {
            "aaxis": {
             "endlinecolor": "#2a3f5f",
             "gridcolor": "white",
             "linecolor": "white",
             "minorgridcolor": "white",
             "startlinecolor": "#2a3f5f"
            },
            "baxis": {
             "endlinecolor": "#2a3f5f",
             "gridcolor": "white",
             "linecolor": "white",
             "minorgridcolor": "white",
             "startlinecolor": "#2a3f5f"
            },
            "type": "carpet"
           }
          ],
          "choropleth": [
           {
            "colorbar": {
             "outlinewidth": 0,
             "ticks": ""
            },
            "type": "choropleth"
           }
          ],
          "contour": [
           {
            "colorbar": {
             "outlinewidth": 0,
             "ticks": ""
            },
            "colorscale": [
             [
              0,
              "#0d0887"
             ],
             [
              0.1111111111111111,
              "#46039f"
             ],
             [
              0.2222222222222222,
              "#7201a8"
             ],
             [
              0.3333333333333333,
              "#9c179e"
             ],
             [
              0.4444444444444444,
              "#bd3786"
             ],
             [
              0.5555555555555556,
              "#d8576b"
             ],
             [
              0.6666666666666666,
              "#ed7953"
             ],
             [
              0.7777777777777778,
              "#fb9f3a"
             ],
             [
              0.8888888888888888,
              "#fdca26"
             ],
             [
              1,
              "#f0f921"
             ]
            ],
            "type": "contour"
           }
          ],
          "contourcarpet": [
           {
            "colorbar": {
             "outlinewidth": 0,
             "ticks": ""
            },
            "type": "contourcarpet"
           }
          ],
          "heatmap": [
           {
            "colorbar": {
             "outlinewidth": 0,
             "ticks": ""
            },
            "colorscale": [
             [
              0,
              "#0d0887"
             ],
             [
              0.1111111111111111,
              "#46039f"
             ],
             [
              0.2222222222222222,
              "#7201a8"
             ],
             [
              0.3333333333333333,
              "#9c179e"
             ],
             [
              0.4444444444444444,
              "#bd3786"
             ],
             [
              0.5555555555555556,
              "#d8576b"
             ],
             [
              0.6666666666666666,
              "#ed7953"
             ],
             [
              0.7777777777777778,
              "#fb9f3a"
             ],
             [
              0.8888888888888888,
              "#fdca26"
             ],
             [
              1,
              "#f0f921"
             ]
            ],
            "type": "heatmap"
           }
          ],
          "heatmapgl": [
           {
            "colorbar": {
             "outlinewidth": 0,
             "ticks": ""
            },
            "colorscale": [
             [
              0,
              "#0d0887"
             ],
             [
              0.1111111111111111,
              "#46039f"
             ],
             [
              0.2222222222222222,
              "#7201a8"
             ],
             [
              0.3333333333333333,
              "#9c179e"
             ],
             [
              0.4444444444444444,
              "#bd3786"
             ],
             [
              0.5555555555555556,
              "#d8576b"
             ],
             [
              0.6666666666666666,
              "#ed7953"
             ],
             [
              0.7777777777777778,
              "#fb9f3a"
             ],
             [
              0.8888888888888888,
              "#fdca26"
             ],
             [
              1,
              "#f0f921"
             ]
            ],
            "type": "heatmapgl"
           }
          ],
          "histogram": [
           {
            "marker": {
             "pattern": {
              "fillmode": "overlay",
              "size": 10,
              "solidity": 0.2
             }
            },
            "type": "histogram"
           }
          ],
          "histogram2d": [
           {
            "colorbar": {
             "outlinewidth": 0,
             "ticks": ""
            },
            "colorscale": [
             [
              0,
              "#0d0887"
             ],
             [
              0.1111111111111111,
              "#46039f"
             ],
             [
              0.2222222222222222,
              "#7201a8"
             ],
             [
              0.3333333333333333,
              "#9c179e"
             ],
             [
              0.4444444444444444,
              "#bd3786"
             ],
             [
              0.5555555555555556,
              "#d8576b"
             ],
             [
              0.6666666666666666,
              "#ed7953"
             ],
             [
              0.7777777777777778,
              "#fb9f3a"
             ],
             [
              0.8888888888888888,
              "#fdca26"
             ],
             [
              1,
              "#f0f921"
             ]
            ],
            "type": "histogram2d"
           }
          ],
          "histogram2dcontour": [
           {
            "colorbar": {
             "outlinewidth": 0,
             "ticks": ""
            },
            "colorscale": [
             [
              0,
              "#0d0887"
             ],
             [
              0.1111111111111111,
              "#46039f"
             ],
             [
              0.2222222222222222,
              "#7201a8"
             ],
             [
              0.3333333333333333,
              "#9c179e"
             ],
             [
              0.4444444444444444,
              "#bd3786"
             ],
             [
              0.5555555555555556,
              "#d8576b"
             ],
             [
              0.6666666666666666,
              "#ed7953"
             ],
             [
              0.7777777777777778,
              "#fb9f3a"
             ],
             [
              0.8888888888888888,
              "#fdca26"
             ],
             [
              1,
              "#f0f921"
             ]
            ],
            "type": "histogram2dcontour"
           }
          ],
          "mesh3d": [
           {
            "colorbar": {
             "outlinewidth": 0,
             "ticks": ""
            },
            "type": "mesh3d"
           }
          ],
          "parcoords": [
           {
            "line": {
             "colorbar": {
              "outlinewidth": 0,
              "ticks": ""
             }
            },
            "type": "parcoords"
           }
          ],
          "pie": [
           {
            "automargin": true,
            "type": "pie"
           }
          ],
          "scatter": [
           {
            "fillpattern": {
             "fillmode": "overlay",
             "size": 10,
             "solidity": 0.2
            },
            "type": "scatter"
           }
          ],
          "scatter3d": [
           {
            "line": {
             "colorbar": {
              "outlinewidth": 0,
              "ticks": ""
             }
            },
            "marker": {
             "colorbar": {
              "outlinewidth": 0,
              "ticks": ""
             }
            },
            "type": "scatter3d"
           }
          ],
          "scattercarpet": [
           {
            "marker": {
             "colorbar": {
              "outlinewidth": 0,
              "ticks": ""
             }
            },
            "type": "scattercarpet"
           }
          ],
          "scattergeo": [
           {
            "marker": {
             "colorbar": {
              "outlinewidth": 0,
              "ticks": ""
             }
            },
            "type": "scattergeo"
           }
          ],
          "scattergl": [
           {
            "marker": {
             "colorbar": {
              "outlinewidth": 0,
              "ticks": ""
             }
            },
            "type": "scattergl"
           }
          ],
          "scattermapbox": [
           {
            "marker": {
             "colorbar": {
              "outlinewidth": 0,
              "ticks": ""
             }
            },
            "type": "scattermapbox"
           }
          ],
          "scatterpolar": [
           {
            "marker": {
             "colorbar": {
              "outlinewidth": 0,
              "ticks": ""
             }
            },
            "type": "scatterpolar"
           }
          ],
          "scatterpolargl": [
           {
            "marker": {
             "colorbar": {
              "outlinewidth": 0,
              "ticks": ""
             }
            },
            "type": "scatterpolargl"
           }
          ],
          "scatterternary": [
           {
            "marker": {
             "colorbar": {
              "outlinewidth": 0,
              "ticks": ""
             }
            },
            "type": "scatterternary"
           }
          ],
          "surface": [
           {
            "colorbar": {
             "outlinewidth": 0,
             "ticks": ""
            },
            "colorscale": [
             [
              0,
              "#0d0887"
             ],
             [
              0.1111111111111111,
              "#46039f"
             ],
             [
              0.2222222222222222,
              "#7201a8"
             ],
             [
              0.3333333333333333,
              "#9c179e"
             ],
             [
              0.4444444444444444,
              "#bd3786"
             ],
             [
              0.5555555555555556,
              "#d8576b"
             ],
             [
              0.6666666666666666,
              "#ed7953"
             ],
             [
              0.7777777777777778,
              "#fb9f3a"
             ],
             [
              0.8888888888888888,
              "#fdca26"
             ],
             [
              1,
              "#f0f921"
             ]
            ],
            "type": "surface"
           }
          ],
          "table": [
           {
            "cells": {
             "fill": {
              "color": "#EBF0F8"
             },
             "line": {
              "color": "white"
             }
            },
            "header": {
             "fill": {
              "color": "#C8D4E3"
             },
             "line": {
              "color": "white"
             }
            },
            "type": "table"
           }
          ]
         },
         "layout": {
          "annotationdefaults": {
           "arrowcolor": "#2a3f5f",
           "arrowhead": 0,
           "arrowwidth": 1
          },
          "autotypenumbers": "strict",
          "coloraxis": {
           "colorbar": {
            "outlinewidth": 0,
            "ticks": ""
           }
          },
          "colorscale": {
           "diverging": [
            [
             0,
             "#8e0152"
            ],
            [
             0.1,
             "#c51b7d"
            ],
            [
             0.2,
             "#de77ae"
            ],
            [
             0.3,
             "#f1b6da"
            ],
            [
             0.4,
             "#fde0ef"
            ],
            [
             0.5,
             "#f7f7f7"
            ],
            [
             0.6,
             "#e6f5d0"
            ],
            [
             0.7,
             "#b8e186"
            ],
            [
             0.8,
             "#7fbc41"
            ],
            [
             0.9,
             "#4d9221"
            ],
            [
             1,
             "#276419"
            ]
           ],
           "sequential": [
            [
             0,
             "#0d0887"
            ],
            [
             0.1111111111111111,
             "#46039f"
            ],
            [
             0.2222222222222222,
             "#7201a8"
            ],
            [
             0.3333333333333333,
             "#9c179e"
            ],
            [
             0.4444444444444444,
             "#bd3786"
            ],
            [
             0.5555555555555556,
             "#d8576b"
            ],
            [
             0.6666666666666666,
             "#ed7953"
            ],
            [
             0.7777777777777778,
             "#fb9f3a"
            ],
            [
             0.8888888888888888,
             "#fdca26"
            ],
            [
             1,
             "#f0f921"
            ]
           ],
           "sequentialminus": [
            [
             0,
             "#0d0887"
            ],
            [
             0.1111111111111111,
             "#46039f"
            ],
            [
             0.2222222222222222,
             "#7201a8"
            ],
            [
             0.3333333333333333,
             "#9c179e"
            ],
            [
             0.4444444444444444,
             "#bd3786"
            ],
            [
             0.5555555555555556,
             "#d8576b"
            ],
            [
             0.6666666666666666,
             "#ed7953"
            ],
            [
             0.7777777777777778,
             "#fb9f3a"
            ],
            [
             0.8888888888888888,
             "#fdca26"
            ],
            [
             1,
             "#f0f921"
            ]
           ]
          },
          "colorway": [
           "#636efa",
           "#EF553B",
           "#00cc96",
           "#ab63fa",
           "#FFA15A",
           "#19d3f3",
           "#FF6692",
           "#B6E880",
           "#FF97FF",
           "#FECB52"
          ],
          "font": {
           "color": "#2a3f5f"
          },
          "geo": {
           "bgcolor": "white",
           "lakecolor": "white",
           "landcolor": "#E5ECF6",
           "showlakes": true,
           "showland": true,
           "subunitcolor": "white"
          },
          "hoverlabel": {
           "align": "left"
          },
          "hovermode": "closest",
          "mapbox": {
           "style": "light"
          },
          "paper_bgcolor": "white",
          "plot_bgcolor": "#E5ECF6",
          "polar": {
           "angularaxis": {
            "gridcolor": "white",
            "linecolor": "white",
            "ticks": ""
           },
           "bgcolor": "#E5ECF6",
           "radialaxis": {
            "gridcolor": "white",
            "linecolor": "white",
            "ticks": ""
           }
          },
          "scene": {
           "xaxis": {
            "backgroundcolor": "#E5ECF6",
            "gridcolor": "white",
            "gridwidth": 2,
            "linecolor": "white",
            "showbackground": true,
            "ticks": "",
            "zerolinecolor": "white"
           },
           "yaxis": {
            "backgroundcolor": "#E5ECF6",
            "gridcolor": "white",
            "gridwidth": 2,
            "linecolor": "white",
            "showbackground": true,
            "ticks": "",
            "zerolinecolor": "white"
           },
           "zaxis": {
            "backgroundcolor": "#E5ECF6",
            "gridcolor": "white",
            "gridwidth": 2,
            "linecolor": "white",
            "showbackground": true,
            "ticks": "",
            "zerolinecolor": "white"
           }
          },
          "shapedefaults": {
           "line": {
            "color": "#2a3f5f"
           }
          },
          "ternary": {
           "aaxis": {
            "gridcolor": "white",
            "linecolor": "white",
            "ticks": ""
           },
           "baxis": {
            "gridcolor": "white",
            "linecolor": "white",
            "ticks": ""
           },
           "bgcolor": "#E5ECF6",
           "caxis": {
            "gridcolor": "white",
            "linecolor": "white",
            "ticks": ""
           }
          },
          "title": {
           "x": 0.05
          },
          "xaxis": {
           "automargin": true,
           "gridcolor": "white",
           "linecolor": "white",
           "ticks": "",
           "title": {
            "standoff": 15
           },
           "zerolinecolor": "white",
           "zerolinewidth": 2
          },
          "yaxis": {
           "automargin": true,
           "gridcolor": "white",
           "linecolor": "white",
           "ticks": "",
           "title": {
            "standoff": 15
           },
           "zerolinecolor": "white",
           "zerolinewidth": 2
          }
         }
        },
        "xaxis": {
         "anchor": "y",
         "domain": [
          0,
          1
         ],
         "title": {
          "text": "Order_Date"
         }
        },
        "yaxis": {
         "anchor": "x",
         "domain": [
          0,
          1
         ],
         "title": {
          "text": "ID"
         }
        }
       }
      }
     },
     "metadata": {},
     "output_type": "display_data"
    }
   ],
   "source": [
    "df1.shape[0]\n",
    "cols = ['ID', 'Order_Date']\n",
    "df_aux = df1.loc[:, cols].groupby('Order_Date').count().reset_index()\n",
    "media = np.mean(df_aux['ID'])\n",
    "fig = px.bar(df_aux, x='Order_Date', y='ID', color='ID')\n",
    "fig.add_hline(y=media, line_dash='dash', line_color='red', annotation_text=f'Média: {media:.2f}')"
   ]
  },
  {
   "cell_type": "markdown",
   "id": "dd939a41-eeb2-4360-af31-e06076ba2cee",
   "metadata": {},
   "source": [
    "### Quantidade de Entregadores"
   ]
  },
  {
   "cell_type": "code",
   "execution_count": 11,
   "id": "fb66b3f1-8148-4259-b325-2fea86e411ea",
   "metadata": {},
   "outputs": [
    {
     "name": "stdout",
     "output_type": "stream",
     "text": [
      "A quantidade de entregadores é: 1244\n"
     ]
    }
   ],
   "source": [
    "delivery_unique = len(df1.loc[:, 'Delivery_person_ID'].unique())\n",
    "print(f'A quantidade de entregadores é: {delivery_unique}')"
   ]
  },
  {
   "cell_type": "markdown",
   "metadata": {},
   "source": [
    "### Pedidos por tipo de tráfego"
   ]
  },
  {
   "cell_type": "code",
   "execution_count": 12,
   "metadata": {},
   "outputs": [],
   "source": [
    "df_aux = df1.loc[:, ['ID', 'Road_traffic_density']].groupby('Road_traffic_density').count().reset_index()\n",
    "df_aux['entregas_perc'] = df_aux['ID']/df_aux['ID'].sum()\n",
    "fig = px.pie(df_aux, values='entregas_perc', names='Road_traffic_density')"
   ]
  },
  {
   "cell_type": "markdown",
   "metadata": {},
   "source": [
    "### Pedidos por cidade e tipo de tráfego"
   ]
  },
  {
   "cell_type": "code",
   "execution_count": 13,
   "metadata": {},
   "outputs": [],
   "source": [
    "df_aux = df1.loc[:, ['ID', 'City', 'Road_traffic_density']].groupby(['City', 'Road_traffic_density']).count().reset_index()\n",
    "fig = px.bar(df_aux, x='Road_traffic_density', y='ID', color='City')\n",
    "#fig = px.scatter(df_aux, x='City', y='Road_traffic_density', size='ID')"
   ]
  },
  {
   "cell_type": "markdown",
   "metadata": {},
   "source": [
    "### Locazação de cada cidade por tipo de tráfego"
   ]
  },
  {
   "cell_type": "code",
   "execution_count": 14,
   "metadata": {},
   "outputs": [],
   "source": [
    "import folium\n",
    "\n",
    "df_aux =df1.loc[:,['City', 'Road_traffic_density', 'Delivery_location_latitude', 'Delivery_location_longitude']].groupby(['City','Road_traffic_density']).median().reset_index()\n",
    "map = folium.Map(location=[-23.54, -46.63],zoom_start=1)\n",
    "\n",
    "for index, location_info in df_aux.iterrows():\n",
    "    folium.Marker( [location_info['Delivery_location_latitude'],\n",
    "                    location_info['Delivery_location_longitude']],\n",
    "                    popup=location_info[['City', 'Road_traffic_density']]).add_to(map)"
   ]
  },
  {
   "cell_type": "markdown",
   "metadata": {},
   "source": [
    "### Pedidos por semana"
   ]
  },
  {
   "cell_type": "code",
   "execution_count": 15,
   "metadata": {},
   "outputs": [],
   "source": [
    "df1['week_of_year'] = df1['Order_Date'].dt.strftime('%U')\n",
    "df_aux = df1.loc[:, ['ID', 'week_of_year']].groupby('week_of_year').count().reset_index()"
   ]
  },
  {
   "cell_type": "markdown",
   "metadata": {},
   "source": [
    "### Pedidos por entregador por semana"
   ]
  },
  {
   "cell_type": "code",
   "execution_count": 16,
   "metadata": {},
   "outputs": [],
   "source": [
    "df_aux01 = df1.loc[:, ['ID', 'week_of_year']].groupby('week_of_year').count().reset_index()\n",
    "df_aux02 = df1.loc[:, ['Delivery_person_ID', 'week_of_year']].groupby('week_of_year').nunique().reset_index()\n",
    "\n",
    "df_aux = pd.merge(df_aux01, df_aux02)\n",
    "df_aux['order_by_delivery'] = df_aux['ID'] / df_aux['Delivery_person_ID']"
   ]
  },
  {
   "cell_type": "code",
   "execution_count": null,
   "metadata": {},
   "outputs": [],
   "source": []
  },
  {
   "cell_type": "markdown",
   "id": "af83a836-b722-45a4-a104-eee2ecb26745",
   "metadata": {},
   "source": [
    "### Idade do entregador mais velho e mais novo"
   ]
  },
  {
   "cell_type": "code",
   "execution_count": 17,
   "id": "e0578255-0d08-44eb-9080-77c874acebbd",
   "metadata": {},
   "outputs": [
    {
     "name": "stdout",
     "output_type": "stream",
     "text": [
      "O entregador mais velho tem 39 anos, e o mais novo tem 20 anos.\n"
     ]
    }
   ],
   "source": [
    "velho = df1['Delivery_person_Age'].max()\n",
    "novo = df1['Delivery_person_Age'].min()\n",
    "print(f'O entregador mais velho tem {velho} anos, e o mais novo tem {novo} anos.')"
   ]
  },
  {
   "cell_type": "markdown",
   "id": "c7b6134d-dbac-4090-9239-304c6e7a7e6d",
   "metadata": {},
   "source": [
    "### ID dos entregadores mais velho e o mais novo"
   ]
  },
  {
   "cell_type": "code",
   "execution_count": 18,
   "id": "71b08698-c20c-4cf8-9393-45664c258098",
   "metadata": {},
   "outputs": [
    {
     "name": "stdout",
     "output_type": "stream",
     "text": [
      "ID do entregador mais novo é 0xb3a0 e do mais velho é 0xddc5\n"
     ]
    }
   ],
   "source": [
    "#df1.sort_values(['Delivery_person_Age'], ascending=False)\n",
    "id_mais_velho = df1.loc[df1['Delivery_person_Age'].idxmax()]['ID']\n",
    "id_mais_novo = df1.loc[df1['Delivery_person_Age'].idxmin()]['ID']\n",
    "print(f'ID do entregador mais novo é {id_mais_novo} e do mais velho é {id_mais_velho}')"
   ]
  },
  {
   "cell_type": "markdown",
   "id": "df39bef9-39df-4418-9a5e-0c2fd0b230a7",
   "metadata": {},
   "source": [
    "### Quais as condições climáticas?"
   ]
  },
  {
   "cell_type": "code",
   "execution_count": 19,
   "id": "a229364e-a94f-4698-8576-bc196c16b3c7",
   "metadata": {},
   "outputs": [
    {
     "data": {
      "text/plain": [
       "array(['conditions Sunny', 'conditions Stormy', 'conditions Sandstorms',\n",
       "       'conditions Cloudy', 'conditions Fog', 'conditions Windy'],\n",
       "      dtype=object)"
      ]
     },
     "execution_count": 19,
     "metadata": {},
     "output_type": "execute_result"
    }
   ],
   "source": [
    "df1['Weatherconditions'].unique()"
   ]
  },
  {
   "cell_type": "markdown",
   "id": "e6c9f8ff-9117-4020-9450-dd21e70178da",
   "metadata": {},
   "source": [
    "### Quantas entregas foram realizados sob condições climáticas Sandstorm"
   ]
  },
  {
   "cell_type": "code",
   "execution_count": 20,
   "id": "73d25d60-e952-4db9-a2c1-593ce9b728a1",
   "metadata": {},
   "outputs": [
    {
     "data": {
      "text/plain": [
       "1141"
      ]
     },
     "execution_count": 20,
     "metadata": {},
     "output_type": "execute_result"
    }
   ],
   "source": [
    "filtro = df1['Weatherconditions'] == 'conditions Sandstorms'\n",
    "len(df1.loc[filtro, :])"
   ]
  },
  {
   "cell_type": "code",
   "execution_count": 21,
   "id": "49183534-b35f-4189-a673-aea616b06aae",
   "metadata": {},
   "outputs": [
    {
     "data": {
      "text/html": [
       "<div>\n",
       "<style scoped>\n",
       "    .dataframe tbody tr th:only-of-type {\n",
       "        vertical-align: middle;\n",
       "    }\n",
       "\n",
       "    .dataframe tbody tr th {\n",
       "        vertical-align: top;\n",
       "    }\n",
       "\n",
       "    .dataframe thead th {\n",
       "        text-align: right;\n",
       "    }\n",
       "</style>\n",
       "<table border=\"1\" class=\"dataframe\">\n",
       "  <thead>\n",
       "    <tr style=\"text-align: right;\">\n",
       "      <th></th>\n",
       "      <th>ID</th>\n",
       "      <th>Delivery_person_ID</th>\n",
       "      <th>Delivery_person_Age</th>\n",
       "      <th>Delivery_person_Ratings</th>\n",
       "      <th>Restaurant_latitude</th>\n",
       "      <th>Restaurant_longitude</th>\n",
       "      <th>Delivery_location_latitude</th>\n",
       "      <th>Delivery_location_longitude</th>\n",
       "      <th>Order_Date</th>\n",
       "      <th>Time_Orderd</th>\n",
       "      <th>...</th>\n",
       "      <th>Weatherconditions</th>\n",
       "      <th>Road_traffic_density</th>\n",
       "      <th>Vehicle_condition</th>\n",
       "      <th>Type_of_order</th>\n",
       "      <th>Type_of_vehicle</th>\n",
       "      <th>multiple_deliveries</th>\n",
       "      <th>Festival</th>\n",
       "      <th>City</th>\n",
       "      <th>Time_taken(min)</th>\n",
       "      <th>week_of_year</th>\n",
       "    </tr>\n",
       "  </thead>\n",
       "  <tbody>\n",
       "    <tr>\n",
       "      <th>0</th>\n",
       "      <td>0x4607</td>\n",
       "      <td>INDORES13DEL02</td>\n",
       "      <td>37</td>\n",
       "      <td>4.9</td>\n",
       "      <td>22.745049</td>\n",
       "      <td>75.892471</td>\n",
       "      <td>22.765049</td>\n",
       "      <td>75.912471</td>\n",
       "      <td>2022-03-19</td>\n",
       "      <td>11:30:00</td>\n",
       "      <td>...</td>\n",
       "      <td>conditions Sunny</td>\n",
       "      <td>High</td>\n",
       "      <td>2.0</td>\n",
       "      <td>Snack</td>\n",
       "      <td>motorcycle</td>\n",
       "      <td>0</td>\n",
       "      <td>No</td>\n",
       "      <td>Urban</td>\n",
       "      <td>24</td>\n",
       "      <td>11</td>\n",
       "    </tr>\n",
       "    <tr>\n",
       "      <th>1</th>\n",
       "      <td>0xb379</td>\n",
       "      <td>BANGRES18DEL02</td>\n",
       "      <td>34</td>\n",
       "      <td>4.5</td>\n",
       "      <td>12.913041</td>\n",
       "      <td>77.683237</td>\n",
       "      <td>13.043041</td>\n",
       "      <td>77.813237</td>\n",
       "      <td>2022-03-25</td>\n",
       "      <td>19:45:00</td>\n",
       "      <td>...</td>\n",
       "      <td>conditions Stormy</td>\n",
       "      <td>Jam</td>\n",
       "      <td>2.0</td>\n",
       "      <td>Snack</td>\n",
       "      <td>scooter</td>\n",
       "      <td>1</td>\n",
       "      <td>No</td>\n",
       "      <td>Metropolitian</td>\n",
       "      <td>33</td>\n",
       "      <td>12</td>\n",
       "    </tr>\n",
       "    <tr>\n",
       "      <th>2</th>\n",
       "      <td>0x5d6d</td>\n",
       "      <td>BANGRES19DEL01</td>\n",
       "      <td>23</td>\n",
       "      <td>4.4</td>\n",
       "      <td>12.914264</td>\n",
       "      <td>77.678400</td>\n",
       "      <td>12.924264</td>\n",
       "      <td>77.688400</td>\n",
       "      <td>2022-03-19</td>\n",
       "      <td>08:30:00</td>\n",
       "      <td>...</td>\n",
       "      <td>conditions Sandstorms</td>\n",
       "      <td>Low</td>\n",
       "      <td>0.0</td>\n",
       "      <td>Drinks</td>\n",
       "      <td>motorcycle</td>\n",
       "      <td>1</td>\n",
       "      <td>No</td>\n",
       "      <td>Urban</td>\n",
       "      <td>26</td>\n",
       "      <td>11</td>\n",
       "    </tr>\n",
       "    <tr>\n",
       "      <th>3</th>\n",
       "      <td>0x7a6a</td>\n",
       "      <td>COIMBRES13DEL02</td>\n",
       "      <td>38</td>\n",
       "      <td>4.7</td>\n",
       "      <td>11.003669</td>\n",
       "      <td>76.976494</td>\n",
       "      <td>11.053669</td>\n",
       "      <td>77.026494</td>\n",
       "      <td>2022-04-05</td>\n",
       "      <td>18:00:00</td>\n",
       "      <td>...</td>\n",
       "      <td>conditions Sunny</td>\n",
       "      <td>Medium</td>\n",
       "      <td>0.0</td>\n",
       "      <td>Buffet</td>\n",
       "      <td>motorcycle</td>\n",
       "      <td>1</td>\n",
       "      <td>No</td>\n",
       "      <td>Metropolitian</td>\n",
       "      <td>21</td>\n",
       "      <td>14</td>\n",
       "    </tr>\n",
       "    <tr>\n",
       "      <th>4</th>\n",
       "      <td>0x70a2</td>\n",
       "      <td>CHENRES12DEL01</td>\n",
       "      <td>32</td>\n",
       "      <td>4.6</td>\n",
       "      <td>12.972793</td>\n",
       "      <td>80.249982</td>\n",
       "      <td>13.012793</td>\n",
       "      <td>80.289982</td>\n",
       "      <td>2022-03-26</td>\n",
       "      <td>13:30:00</td>\n",
       "      <td>...</td>\n",
       "      <td>conditions Cloudy</td>\n",
       "      <td>High</td>\n",
       "      <td>1.0</td>\n",
       "      <td>Snack</td>\n",
       "      <td>scooter</td>\n",
       "      <td>1</td>\n",
       "      <td>No</td>\n",
       "      <td>Metropolitian</td>\n",
       "      <td>30</td>\n",
       "      <td>12</td>\n",
       "    </tr>\n",
       "  </tbody>\n",
       "</table>\n",
       "<p>5 rows × 21 columns</p>\n",
       "</div>"
      ],
      "text/plain": [
       "       ID Delivery_person_ID  Delivery_person_Age  Delivery_person_Ratings  \\\n",
       "0  0x4607     INDORES13DEL02                   37                      4.9   \n",
       "1  0xb379     BANGRES18DEL02                   34                      4.5   \n",
       "2  0x5d6d     BANGRES19DEL01                   23                      4.4   \n",
       "3  0x7a6a    COIMBRES13DEL02                   38                      4.7   \n",
       "4  0x70a2     CHENRES12DEL01                   32                      4.6   \n",
       "\n",
       "   Restaurant_latitude  Restaurant_longitude  Delivery_location_latitude  \\\n",
       "0            22.745049             75.892471                   22.765049   \n",
       "1            12.913041             77.683237                   13.043041   \n",
       "2            12.914264             77.678400                   12.924264   \n",
       "3            11.003669             76.976494                   11.053669   \n",
       "4            12.972793             80.249982                   13.012793   \n",
       "\n",
       "   Delivery_location_longitude Order_Date Time_Orderd  ...  \\\n",
       "0                    75.912471 2022-03-19    11:30:00  ...   \n",
       "1                    77.813237 2022-03-25    19:45:00  ...   \n",
       "2                    77.688400 2022-03-19    08:30:00  ...   \n",
       "3                    77.026494 2022-04-05    18:00:00  ...   \n",
       "4                    80.289982 2022-03-26    13:30:00  ...   \n",
       "\n",
       "       Weatherconditions Road_traffic_density Vehicle_condition  \\\n",
       "0       conditions Sunny                 High               2.0   \n",
       "1      conditions Stormy                  Jam               2.0   \n",
       "2  conditions Sandstorms                  Low               0.0   \n",
       "3       conditions Sunny               Medium               0.0   \n",
       "4      conditions Cloudy                 High               1.0   \n",
       "\n",
       "   Type_of_order Type_of_vehicle multiple_deliveries  Festival           City  \\\n",
       "0          Snack      motorcycle                   0        No          Urban   \n",
       "1          Snack         scooter                   1        No  Metropolitian   \n",
       "2         Drinks      motorcycle                   1        No          Urban   \n",
       "3         Buffet      motorcycle                   1        No  Metropolitian   \n",
       "4          Snack         scooter                   1        No  Metropolitian   \n",
       "\n",
       "  Time_taken(min)  week_of_year  \n",
       "0              24            11  \n",
       "1              33            12  \n",
       "2              26            11  \n",
       "3              21            14  \n",
       "4              30            12  \n",
       "\n",
       "[5 rows x 21 columns]"
      ]
     },
     "execution_count": 21,
     "metadata": {},
     "output_type": "execute_result"
    }
   ],
   "source": [
    "df1.head()"
   ]
  },
  {
   "cell_type": "markdown",
   "id": "54f3e349-0f9d-46e8-b083-26beb690f192",
   "metadata": {},
   "source": [
    "### Qual a condição da entrega mais recente"
   ]
  },
  {
   "cell_type": "code",
   "execution_count": 22,
   "id": "87e4bb64-3a04-44f7-b2a3-d470685ad858",
   "metadata": {},
   "outputs": [
    {
     "data": {
      "text/plain": [
       "'conditions Sunny'"
      ]
     },
     "execution_count": 22,
     "metadata": {},
     "output_type": "execute_result"
    }
   ],
   "source": [
    "df1.loc[df1['Order_Date'].idxmax()]['Weatherconditions']"
   ]
  },
  {
   "cell_type": "markdown",
   "id": "d11a7391-decd-4911-b613-8925e350415e",
   "metadata": {},
   "source": [
    "### Quais tipos de densidade de trânsito?"
   ]
  },
  {
   "cell_type": "code",
   "execution_count": 23,
   "id": "1a510746-9544-4acd-9ce1-d66df17c3f99",
   "metadata": {},
   "outputs": [
    {
     "data": {
      "text/plain": [
       "array(['High', 'Jam', 'Low', 'Medium'], dtype=object)"
      ]
     },
     "execution_count": 23,
     "metadata": {},
     "output_type": "execute_result"
    }
   ],
   "source": [
    "df1['Road_traffic_density'].unique()"
   ]
  },
  {
   "cell_type": "markdown",
   "id": "f5570a8b-be4d-45ac-b1aa-565ed44da98f",
   "metadata": {},
   "source": [
    "### Quantas entregas foram feitas em cada condição climatica"
   ]
  },
  {
   "cell_type": "code",
   "execution_count": 24,
   "id": "3dc10b29-97eb-4617-9e28-5f7c313a59e5",
   "metadata": {},
   "outputs": [
    {
     "name": "stdout",
     "output_type": "stream",
     "text": [
      "Foram feitas 1135 na condição conditions Sunny\n",
      "Foram feitas 1184 na condição conditions Stormy\n",
      "Foram feitas 1141 na condição conditions Sandstorms\n",
      "Foram feitas 1182 na condição conditions Cloudy\n",
      "Foram feitas 1216 na condição conditions Fog\n",
      "Foram feitas 1186 na condição conditions Windy\n"
     ]
    }
   ],
   "source": [
    "condicoes = list(df1['Weatherconditions'].unique())\n",
    "\n",
    "for condicao in condicoes:\n",
    "    qtd_entregas = df1.loc[df1['Weatherconditions'] == condicao, :].shape[0]\n",
    "    print(f'Foram feitas {qtd_entregas} na condição {condicao}')"
   ]
  },
  {
   "cell_type": "markdown",
   "id": "abbbea9f-9c22-4e21-910a-6030e8b7be72",
   "metadata": {},
   "source": [
    "### Quantos entregadores fizeram entregas em cada condição climática"
   ]
  },
  {
   "cell_type": "code",
   "execution_count": 25,
   "id": "c2ea79bf-4701-4b18-9683-971fd25ac75e",
   "metadata": {},
   "outputs": [
    {
     "name": "stdout",
     "output_type": "stream",
     "text": [
      "A condição climática conditions Sunny teve o total de 713 entregadores\n",
      "A condição climática conditions Stormy teve o total de 680 entregadores\n",
      "A condição climática conditions Sandstorms teve o total de 689 entregadores\n",
      "A condição climática conditions Cloudy teve o total de 729 entregadores\n",
      "A condição climática conditions Fog teve o total de 722 entregadores\n",
      "A condição climática conditions Windy teve o total de 707 entregadores\n"
     ]
    }
   ],
   "source": [
    "condicoes = list(df1['Weatherconditions'].unique())\n",
    "\n",
    "for condicao in condicoes:\n",
    "    qnt_entregadores = len(df1.loc[df1['Weatherconditions'] == condicao, 'Delivery_person_ID'].unique())\n",
    "    print(f'A condição climática {condicao} teve o total de {qnt_entregadores} entregadores')"
   ]
  },
  {
   "cell_type": "markdown",
   "id": "6eaa01e7-b5ae-487d-b716-53c7855b98bd",
   "metadata": {},
   "source": [
    "### Quantas entregas foram feitas em cada tipo de densidade de trânsito"
   ]
  },
  {
   "cell_type": "code",
   "execution_count": 26,
   "id": "b31f8e3b-bbc6-41b0-ac99-16d0c6a8a6f5",
   "metadata": {},
   "outputs": [
    {
     "name": "stdout",
     "output_type": "stream",
     "text": [
      "A condição de trânsito High teve o total de 717 entregas\n",
      "A condição de trânsito Jam teve o total de 2279 entregas\n",
      "A condição de trânsito Low teve o total de 2339 entregas\n",
      "A condição de trânsito Medium teve o total de 1709 entregas\n"
     ]
    }
   ],
   "source": [
    "condicoes = list(df1['Road_traffic_density'].unique())\n",
    "\n",
    "for condicao in condicoes:\n",
    "    qnt_entregas = df1.loc[df1['Road_traffic_density'] == condicao, :].shape[0]\n",
    "    print(f'A condição de trânsito {condicao} teve o total de {qnt_entregas} entregas')"
   ]
  },
  {
   "cell_type": "markdown",
   "id": "33a05c87-57b2-44ef-af8f-9956168895c8",
   "metadata": {},
   "source": [
    "### Quantos entregadores únicos fizeram entregas em cada tipo de densidade de trânsito"
   ]
  },
  {
   "cell_type": "code",
   "execution_count": 27,
   "id": "f557cd41-f63c-442d-addf-be539b7180fe",
   "metadata": {},
   "outputs": [
    {
     "name": "stdout",
     "output_type": "stream",
     "text": [
      "A condição de trânsito High teve o total de 407 entregadores únicos\n",
      "A condição de trânsito Jam teve o total de 959 entregadores únicos\n",
      "A condição de trânsito Low teve o total de 961 entregadores únicos\n",
      "A condição de trânsito Medium teve o total de 842 entregadores únicos\n"
     ]
    }
   ],
   "source": [
    "condicoes = list(df1['Road_traffic_density'].unique())\n",
    "\n",
    "for condicao in condicoes:\n",
    "    qnt_entregadores = len(df1.loc[df1['Road_traffic_density'] == condicao, 'Delivery_person_ID'].unique())\n",
    "    print(f'A condição de trânsito {condicao} teve o total de {qnt_entregadores} entregadores únicos')"
   ]
  },
  {
   "cell_type": "markdown",
   "id": "8f5e6240-399f-4697-bc51-832a5a3aef21",
   "metadata": {},
   "source": [
    "### Quantos tipos de cidade unicas e quais seus nomes"
   ]
  },
  {
   "cell_type": "code",
   "execution_count": 28,
   "id": "dee98096-279a-407a-aeec-1162853519ec",
   "metadata": {},
   "outputs": [
    {
     "name": "stdout",
     "output_type": "stream",
     "text": [
      "Existem 3 cidades e são: ['Urban' 'Metropolitian' 'Semi-Urban']\n"
     ]
    }
   ],
   "source": [
    "cidades = df1['City'].unique()\n",
    "qnt_cidades = len(cidades)\n",
    "print(f'Existem {qnt_cidades} cidades e são: {cidades}')"
   ]
  },
  {
   "cell_type": "markdown",
   "id": "be05df7d-3339-4dfc-8272-e30df2074d4b",
   "metadata": {},
   "source": [
    "### Quantos tipos de veículos existem"
   ]
  },
  {
   "cell_type": "code",
   "execution_count": 29,
   "id": "ee3a3cc4-c1f7-442b-95aa-844a599a08d8",
   "metadata": {},
   "outputs": [
    {
     "name": "stdout",
     "output_type": "stream",
     "text": [
      "Existem 3 tipo de veiculos\n"
     ]
    }
   ],
   "source": [
    "qnt_veiculos = len(df1['Type_of_vehicle'].unique())\n",
    "print(f'Existem {qnt_veiculos} tipo de veiculos')"
   ]
  },
  {
   "cell_type": "markdown",
   "id": "3f9fa774-3a27-485e-af19-6a1b7bf01865",
   "metadata": {},
   "source": [
    "### Qual o tipo de veiculo que mais fez entregas com trânsito pesado"
   ]
  },
  {
   "cell_type": "code",
   "execution_count": 30,
   "id": "a3925154-d159-49cc-905a-f5872e420fba",
   "metadata": {},
   "outputs": [
    {
     "name": "stdout",
     "output_type": "stream",
     "text": [
      "motorcycle -> 427\n"
     ]
    }
   ],
   "source": [
    "veiculos = list(df1['Type_of_vehicle'].unique())\n",
    "total_entregas = 0\n",
    "tipo_veiculos = ''\n",
    "\n",
    "for veiculo in veiculos:\n",
    "    filtro = (df1['Type_of_vehicle'] == veiculo) & (df1['Road_traffic_density'] == 'High')\n",
    "    aux = df1.loc[filtro, :].shape[0]\n",
    "\n",
    "    if aux > total_entregas:\n",
    "        total_entregas = aux\n",
    "        tipo_veiculo = veiculo\n",
    "\n",
    "print(f'{tipo_veiculo} -> {total_entregas}')"
   ]
  },
  {
   "cell_type": "markdown",
   "id": "d3438574-376a-4974-a2c9-29ef956db638",
   "metadata": {},
   "source": [
    "### Qual o tipo de pedido mais feito durante condições climáticas de Sandstorms"
   ]
  },
  {
   "cell_type": "code",
   "execution_count": 31,
   "id": "95af6572-7ede-4b6d-8d24-9c168c4496b7",
   "metadata": {},
   "outputs": [
    {
     "name": "stdout",
     "output_type": "stream",
     "text": [
      "Meal -> 312\n"
     ]
    }
   ],
   "source": [
    "pedidos = list(df1['Type_of_order'].unique())\n",
    "total_entregas = 0\n",
    "tipo_clima = ''\n",
    "\n",
    "for pedido in pedidos:\n",
    "    filtro = (df1['Type_of_order'] == pedido) & (df1['Weatherconditions'] == 'conditions Sandstorms')\n",
    "    aux = df1.loc[filtro, :].shape[0]\n",
    "\n",
    "    if aux > total_entregas:\n",
    "        total_entregas = aux\n",
    "        tipo_clima = pedido\n",
    "\n",
    "print(f'{tipo_clima} -> {total_entregas}')\n"
   ]
  },
  {
   "cell_type": "markdown",
   "id": "12a43439-fe47-4676-bf4f-96c209f248fc",
   "metadata": {},
   "source": [
    "### Qual a cidade com o maior número de pedidos de bebidas (drinks) feito em scooter"
   ]
  },
  {
   "cell_type": "code",
   "execution_count": 32,
   "id": "127caded-8f27-4d26-9fb8-531b94f2aebf",
   "metadata": {},
   "outputs": [
    {
     "name": "stdout",
     "output_type": "stream",
     "text": [
      "Metropolitian -> 453\n"
     ]
    }
   ],
   "source": [
    "cidades = list(df1['City'].unique())\n",
    "total_entregas = 0\n",
    "tipo_cidade = ''\n",
    "\n",
    "for cidade in cidades:\n",
    "    filtro = (df1['City'] == cidade) & (df1['Type_of_order'] == 'Drinks') & (df1['Type_of_vehicle'] == 'scooter')\n",
    "    aux = df1.loc[filtro, :].shape[0]\n",
    "\n",
    "    if aux > total_entregas:\n",
    "        total_entregas = aux\n",
    "        tipo_cidade = cidade\n",
    "\n",
    "print(f'{tipo_cidade} -> {total_entregas}')"
   ]
  },
  {
   "cell_type": "markdown",
   "id": "d9e3cd12-2590-49ea-9723-94b6560baede",
   "metadata": {},
   "source": [
    "### Nome da cidade com os entradores mais velhos e o nome da cidade os mais novos"
   ]
  },
  {
   "cell_type": "code",
   "execution_count": null,
   "id": "b2e07989-c528-41f8-94d1-63d5318a4787",
   "metadata": {},
   "outputs": [],
   "source": []
  },
  {
   "cell_type": "markdown",
   "id": "7db07e23-4962-4bab-b866-08ebff7d6c2b",
   "metadata": {},
   "source": [
    "# Distância dos Restaurantes"
   ]
  },
  {
   "cell_type": "code",
   "execution_count": 33,
   "id": "582c5fa9-7007-49da-ae98-0899fed96a32",
   "metadata": {},
   "outputs": [],
   "source": [
    "cols = ['Restaurant_latitude', 'Restaurant_longitude', 'Delivery_location_latitude', 'Delivery_location_longitude']\n",
    "df1['distance'] = df1.loc[:, cols].apply( lambda row: haversine((row['Restaurant_latitude'], row['Restaurant_longitude']), (row['Delivery_location_latitude'], row['Delivery_location_longitude'])), axis=1)\n"
   ]
  },
  {
   "cell_type": "markdown",
   "id": "d115d34b-0869-4ab4-a9af-7e44a9232399",
   "metadata": {
    "jp-MarkdownHeadingCollapsed": true
   },
   "source": [
    "# Retirando o (mim) da coluna de tempo e transformando em numérico"
   ]
  },
  {
   "cell_type": "code",
   "execution_count": 34,
   "id": "dd49505f-39e6-46f4-9027-e3d16e306e72",
   "metadata": {},
   "outputs": [],
   "source": [
    "#df1['Time_taken(min)'] = df1['Time_taken(min)'].replace(r'\\D', '', regex=True)\n",
    "#df1['Time_taken(min)'] = df1.to_numeric(df1['Time_taken(min)'])"
   ]
  },
  {
   "cell_type": "markdown",
   "id": "80ebea7f-75c1-4b55-82c3-75a2e0a96b91",
   "metadata": {},
   "source": [
    "# Entregadores mais novos e velhos"
   ]
  },
  {
   "cell_type": "code",
   "execution_count": 35,
   "id": "8c43a074-862a-4a6c-85be-851bf0b06495",
   "metadata": {
    "scrolled": true
   },
   "outputs": [
    {
     "name": "stdout",
     "output_type": "stream",
     "text": [
      "O entregador com mais idade tem: 39 anos\n",
      "O entregador com menos ideade tem: 20 anos\n"
     ]
    }
   ],
   "source": [
    "df_aux_max = df1.loc[:, 'Delivery_person_Age'].max()\n",
    "df_aux_min = df1.loc[:, 'Delivery_person_Age'].min()\n",
    "\n",
    "print(f'O entregador com mais idade tem: {df_aux_max} anos')\n",
    "print(f'O entregador com menos ideade tem: {df_aux_min} anos')"
   ]
  },
  {
   "cell_type": "markdown",
   "id": "1acc3090",
   "metadata": {},
   "source": [
    "###"
   ]
  },
  {
   "cell_type": "markdown",
   "id": "13c77945",
   "metadata": {},
   "source": [
    "# Condição de veículos mais novo e o pior"
   ]
  },
  {
   "cell_type": "code",
   "execution_count": 36,
   "id": "f6a794bb-fbee-4b76-82b5-44b7c2518399",
   "metadata": {},
   "outputs": [
    {
     "name": "stdout",
     "output_type": "stream",
     "text": [
      "O veiculo mais novo tem nota 2.0\n",
      "O veiculo mais velho tem nota 0.0\n"
     ]
    }
   ],
   "source": [
    "df_aux_cond_vei_max = df1.loc[:, 'Vehicle_condition'].max()\n",
    "df_aux_cond_vei_min = df1.loc[:, 'Vehicle_condition'].min()\n",
    "\n",
    "print(f'O veiculo mais novo tem nota {df_aux_cond_vei_max}')\n",
    "print(f'O veiculo mais velho tem nota {df_aux_cond_vei_min}')\n"
   ]
  },
  {
   "cell_type": "markdown",
   "id": "422d5818",
   "metadata": {},
   "source": [
    "# Avaliação média por Entregador"
   ]
  },
  {
   "cell_type": "code",
   "execution_count": 37,
   "id": "68a07921",
   "metadata": {},
   "outputs": [
    {
     "data": {
      "text/html": [
       "<div>\n",
       "<style scoped>\n",
       "    .dataframe tbody tr th:only-of-type {\n",
       "        vertical-align: middle;\n",
       "    }\n",
       "\n",
       "    .dataframe tbody tr th {\n",
       "        vertical-align: top;\n",
       "    }\n",
       "\n",
       "    .dataframe thead th {\n",
       "        text-align: right;\n",
       "    }\n",
       "</style>\n",
       "<table border=\"1\" class=\"dataframe\">\n",
       "  <thead>\n",
       "    <tr style=\"text-align: right;\">\n",
       "      <th></th>\n",
       "      <th>Delivery_person_ID</th>\n",
       "      <th>Delivery_person_Ratings</th>\n",
       "    </tr>\n",
       "  </thead>\n",
       "  <tbody>\n",
       "    <tr>\n",
       "      <th>0</th>\n",
       "      <td>AGRRES010DEL01</td>\n",
       "      <td>4.700000</td>\n",
       "    </tr>\n",
       "    <tr>\n",
       "      <th>1</th>\n",
       "      <td>AGRRES010DEL02</td>\n",
       "      <td>4.700000</td>\n",
       "    </tr>\n",
       "    <tr>\n",
       "      <th>2</th>\n",
       "      <td>AGRRES010DEL03</td>\n",
       "      <td>4.500000</td>\n",
       "    </tr>\n",
       "    <tr>\n",
       "      <th>3</th>\n",
       "      <td>AGRRES01DEL02</td>\n",
       "      <td>4.550000</td>\n",
       "    </tr>\n",
       "    <tr>\n",
       "      <th>4</th>\n",
       "      <td>AGRRES01DEL03</td>\n",
       "      <td>4.733333</td>\n",
       "    </tr>\n",
       "    <tr>\n",
       "      <th>...</th>\n",
       "      <td>...</td>\n",
       "      <td>...</td>\n",
       "    </tr>\n",
       "    <tr>\n",
       "      <th>1239</th>\n",
       "      <td>VADRES19DEL02</td>\n",
       "      <td>4.576923</td>\n",
       "    </tr>\n",
       "    <tr>\n",
       "      <th>1240</th>\n",
       "      <td>VADRES19DEL03</td>\n",
       "      <td>4.644444</td>\n",
       "    </tr>\n",
       "    <tr>\n",
       "      <th>1241</th>\n",
       "      <td>VADRES20DEL01</td>\n",
       "      <td>4.650000</td>\n",
       "    </tr>\n",
       "    <tr>\n",
       "      <th>1242</th>\n",
       "      <td>VADRES20DEL02</td>\n",
       "      <td>4.430000</td>\n",
       "    </tr>\n",
       "    <tr>\n",
       "      <th>1243</th>\n",
       "      <td>VADRES20DEL03</td>\n",
       "      <td>4.866667</td>\n",
       "    </tr>\n",
       "  </tbody>\n",
       "</table>\n",
       "<p>1244 rows × 2 columns</p>\n",
       "</div>"
      ],
      "text/plain": [
       "     Delivery_person_ID  Delivery_person_Ratings\n",
       "0        AGRRES010DEL01                 4.700000\n",
       "1        AGRRES010DEL02                 4.700000\n",
       "2        AGRRES010DEL03                 4.500000\n",
       "3         AGRRES01DEL02                 4.550000\n",
       "4         AGRRES01DEL03                 4.733333\n",
       "...                 ...                      ...\n",
       "1239      VADRES19DEL02                 4.576923\n",
       "1240      VADRES19DEL03                 4.644444\n",
       "1241      VADRES20DEL01                 4.650000\n",
       "1242      VADRES20DEL02                 4.430000\n",
       "1243      VADRES20DEL03                 4.866667\n",
       "\n",
       "[1244 rows x 2 columns]"
      ]
     },
     "execution_count": 37,
     "metadata": {},
     "output_type": "execute_result"
    }
   ],
   "source": [
    "df_aux_med_ent = df1.loc[:, ['Delivery_person_Ratings', 'Delivery_person_ID']].groupby('Delivery_person_ID').mean().reset_index()\n",
    "df_aux_med_ent"
   ]
  },
  {
   "cell_type": "markdown",
   "id": "94cb194c",
   "metadata": {},
   "source": [
    "# Avaliação média e Desvio Padrão por tipo de tráfego"
   ]
  },
  {
   "cell_type": "code",
   "execution_count": 38,
   "id": "88c5d589",
   "metadata": {},
   "outputs": [
    {
     "data": {
      "text/html": [
       "<div>\n",
       "<style scoped>\n",
       "    .dataframe tbody tr th:only-of-type {\n",
       "        vertical-align: middle;\n",
       "    }\n",
       "\n",
       "    .dataframe tbody tr th {\n",
       "        vertical-align: top;\n",
       "    }\n",
       "\n",
       "    .dataframe thead th {\n",
       "        text-align: right;\n",
       "    }\n",
       "</style>\n",
       "<table border=\"1\" class=\"dataframe\">\n",
       "  <thead>\n",
       "    <tr style=\"text-align: right;\">\n",
       "      <th></th>\n",
       "      <th>Média</th>\n",
       "      <th>Desvio Pad</th>\n",
       "    </tr>\n",
       "  </thead>\n",
       "  <tbody>\n",
       "    <tr>\n",
       "      <th>0</th>\n",
       "      <td>4.662762</td>\n",
       "      <td>0.269895</td>\n",
       "    </tr>\n",
       "    <tr>\n",
       "      <th>1</th>\n",
       "      <td>4.593805</td>\n",
       "      <td>0.322192</td>\n",
       "    </tr>\n",
       "    <tr>\n",
       "      <th>2</th>\n",
       "      <td>4.633390</td>\n",
       "      <td>0.345727</td>\n",
       "    </tr>\n",
       "    <tr>\n",
       "      <th>3</th>\n",
       "      <td>4.654396</td>\n",
       "      <td>0.280000</td>\n",
       "    </tr>\n",
       "  </tbody>\n",
       "</table>\n",
       "</div>"
      ],
      "text/plain": [
       "      Média  Desvio Pad\n",
       "0  4.662762    0.269895\n",
       "1  4.593805    0.322192\n",
       "2  4.633390    0.345727\n",
       "3  4.654396    0.280000"
      ]
     },
     "execution_count": 38,
     "metadata": {},
     "output_type": "execute_result"
    }
   ],
   "source": [
    "df_aux_med_desv_tra = df1.loc[:, ['Delivery_person_Ratings', 'Road_traffic_density']].groupby('Road_traffic_density').agg({'Delivery_person_Ratings': ['mean', 'std']})\n",
    "\n",
    "\n",
    "# Mudar nomes das colunas\n",
    "df_aux_med_desv_tra.columns = ['Média', 'Desvio Pad']\n",
    "df_aux_med_desv_tra = df_aux_med_desv_tra.reset_index(drop=True)\n",
    "\n",
    "df_aux_med_desv_tra\n"
   ]
  },
  {
   "cell_type": "markdown",
   "id": "63b3de5e",
   "metadata": {},
   "source": [
    "# Avaliação média e Desvio Padrão por tipo de Clima"
   ]
  },
  {
   "cell_type": "code",
   "execution_count": 39,
   "id": "33a6c5f5",
   "metadata": {},
   "outputs": [
    {
     "data": {
      "text/html": [
       "<div>\n",
       "<style scoped>\n",
       "    .dataframe tbody tr th:only-of-type {\n",
       "        vertical-align: middle;\n",
       "    }\n",
       "\n",
       "    .dataframe tbody tr th {\n",
       "        vertical-align: top;\n",
       "    }\n",
       "\n",
       "    .dataframe thead th {\n",
       "        text-align: right;\n",
       "    }\n",
       "</style>\n",
       "<table border=\"1\" class=\"dataframe\">\n",
       "  <thead>\n",
       "    <tr style=\"text-align: right;\">\n",
       "      <th></th>\n",
       "      <th>Média</th>\n",
       "      <th>Desvio Pad</th>\n",
       "    </tr>\n",
       "  </thead>\n",
       "  <tbody>\n",
       "    <tr>\n",
       "      <th>0</th>\n",
       "      <td>4.638762</td>\n",
       "      <td>0.281638</td>\n",
       "    </tr>\n",
       "    <tr>\n",
       "      <th>1</th>\n",
       "      <td>4.653947</td>\n",
       "      <td>0.266977</td>\n",
       "    </tr>\n",
       "    <tr>\n",
       "      <th>2</th>\n",
       "      <td>4.600615</td>\n",
       "      <td>0.320025</td>\n",
       "    </tr>\n",
       "    <tr>\n",
       "      <th>3</th>\n",
       "      <td>4.609206</td>\n",
       "      <td>0.311229</td>\n",
       "    </tr>\n",
       "    <tr>\n",
       "      <th>4</th>\n",
       "      <td>4.646337</td>\n",
       "      <td>0.406090</td>\n",
       "    </tr>\n",
       "    <tr>\n",
       "      <th>5</th>\n",
       "      <td>4.622213</td>\n",
       "      <td>0.298440</td>\n",
       "    </tr>\n",
       "  </tbody>\n",
       "</table>\n",
       "</div>"
      ],
      "text/plain": [
       "      Média  Desvio Pad\n",
       "0  4.638762    0.281638\n",
       "1  4.653947    0.266977\n",
       "2  4.600615    0.320025\n",
       "3  4.609206    0.311229\n",
       "4  4.646337    0.406090\n",
       "5  4.622213    0.298440"
      ]
     },
     "execution_count": 39,
     "metadata": {},
     "output_type": "execute_result"
    }
   ],
   "source": [
    "df_aux_med_desv_cli = df1.loc[:, ['Delivery_person_Ratings', 'Weatherconditions']].groupby('Weatherconditions').agg({'Delivery_person_Ratings': ['mean', 'std']})\n",
    "\n",
    "# Mudar nomes das colunas\n",
    "df_aux_med_desv_cli.columns = ['Média', 'Desvio Pad']\n",
    "df_aux_med_desv_cli = df_aux_med_desv_cli.reset_index(drop=True)\n",
    "\n",
    "df_aux_med_desv_cli\n"
   ]
  },
  {
   "cell_type": "markdown",
   "id": "8a824996",
   "metadata": {},
   "source": [
    "# Velocidade de Entregadores"
   ]
  },
  {
   "cell_type": "markdown",
   "id": "4634fc29",
   "metadata": {},
   "source": [
    "## Entregadores mais rápidos"
   ]
  },
  {
   "cell_type": "code",
   "execution_count": 40,
   "id": "621c8936",
   "metadata": {},
   "outputs": [],
   "source": [
    "df_ent_mais_rap = df1.loc[:, ['Delivery_person_ID', 'City', 'Time_taken(min)']].groupby(['City', 'Delivery_person_ID']).mean().sort_values(['City', 'Time_taken(min)'], ascending=True).reset_index()\n",
    "\n",
    "df_aux01 = df_ent_mais_rap.loc[df_ent_mais_rap['City'] == 'Metropolitian', :].head(10)\n",
    "df_aux02 = df_ent_mais_rap.loc[df_ent_mais_rap['City'] == 'Urban', :].head(10)\n",
    "df_aux03 = df_ent_mais_rap.loc[df_ent_mais_rap['City'] == 'Semi-Urban', :].head(10)\n",
    "\n",
    "df_ent_mais_rapido = pd.concat( [df_aux01, df_aux02, df_aux03]).reset_index(drop=True)\n"
   ]
  },
  {
   "cell_type": "markdown",
   "id": "b6132110",
   "metadata": {},
   "source": [
    "## Entregadores mais lentos"
   ]
  },
  {
   "cell_type": "code",
   "execution_count": 41,
   "id": "e8702a03",
   "metadata": {},
   "outputs": [
    {
     "data": {
      "text/html": [
       "<div>\n",
       "<style scoped>\n",
       "    .dataframe tbody tr th:only-of-type {\n",
       "        vertical-align: middle;\n",
       "    }\n",
       "\n",
       "    .dataframe tbody tr th {\n",
       "        vertical-align: top;\n",
       "    }\n",
       "\n",
       "    .dataframe thead th {\n",
       "        text-align: right;\n",
       "    }\n",
       "</style>\n",
       "<table border=\"1\" class=\"dataframe\">\n",
       "  <thead>\n",
       "    <tr style=\"text-align: right;\">\n",
       "      <th></th>\n",
       "      <th>City</th>\n",
       "      <th>Delivery_person_ID</th>\n",
       "      <th>Time_taken(min)</th>\n",
       "    </tr>\n",
       "  </thead>\n",
       "  <tbody>\n",
       "    <tr>\n",
       "      <th>0</th>\n",
       "      <td>Metropolitian</td>\n",
       "      <td>LUDHRES19DEL03</td>\n",
       "      <td>51.0</td>\n",
       "    </tr>\n",
       "    <tr>\n",
       "      <th>1</th>\n",
       "      <td>Metropolitian</td>\n",
       "      <td>BHPRES05DEL01</td>\n",
       "      <td>49.0</td>\n",
       "    </tr>\n",
       "    <tr>\n",
       "      <th>2</th>\n",
       "      <td>Metropolitian</td>\n",
       "      <td>AGRRES02DEL01</td>\n",
       "      <td>48.0</td>\n",
       "    </tr>\n",
       "    <tr>\n",
       "      <th>3</th>\n",
       "      <td>Metropolitian</td>\n",
       "      <td>AGRRES13DEL01</td>\n",
       "      <td>48.0</td>\n",
       "    </tr>\n",
       "    <tr>\n",
       "      <th>4</th>\n",
       "      <td>Metropolitian</td>\n",
       "      <td>ALHRES18DEL02</td>\n",
       "      <td>48.0</td>\n",
       "    </tr>\n",
       "    <tr>\n",
       "      <th>5</th>\n",
       "      <td>Metropolitian</td>\n",
       "      <td>KOCRES12DEL01</td>\n",
       "      <td>48.0</td>\n",
       "    </tr>\n",
       "    <tr>\n",
       "      <th>6</th>\n",
       "      <td>Metropolitian</td>\n",
       "      <td>AGRRES02DEL02</td>\n",
       "      <td>47.0</td>\n",
       "    </tr>\n",
       "    <tr>\n",
       "      <th>7</th>\n",
       "      <td>Metropolitian</td>\n",
       "      <td>AGRRES20DEL02</td>\n",
       "      <td>46.0</td>\n",
       "    </tr>\n",
       "    <tr>\n",
       "      <th>8</th>\n",
       "      <td>Metropolitian</td>\n",
       "      <td>GOARES13DEL01</td>\n",
       "      <td>46.0</td>\n",
       "    </tr>\n",
       "    <tr>\n",
       "      <th>9</th>\n",
       "      <td>Metropolitian</td>\n",
       "      <td>PUNERES19DEL03</td>\n",
       "      <td>46.0</td>\n",
       "    </tr>\n",
       "    <tr>\n",
       "      <th>10</th>\n",
       "      <td>Urban</td>\n",
       "      <td>CHENRES09DEL02</td>\n",
       "      <td>49.0</td>\n",
       "    </tr>\n",
       "    <tr>\n",
       "      <th>11</th>\n",
       "      <td>Urban</td>\n",
       "      <td>GOARES19DEL01</td>\n",
       "      <td>49.0</td>\n",
       "    </tr>\n",
       "    <tr>\n",
       "      <th>12</th>\n",
       "      <td>Urban</td>\n",
       "      <td>MUMRES19DEL02</td>\n",
       "      <td>49.0</td>\n",
       "    </tr>\n",
       "    <tr>\n",
       "      <th>13</th>\n",
       "      <td>Urban</td>\n",
       "      <td>RANCHIRES20DEL03</td>\n",
       "      <td>49.0</td>\n",
       "    </tr>\n",
       "    <tr>\n",
       "      <th>14</th>\n",
       "      <td>Urban</td>\n",
       "      <td>ALHRES11DEL02</td>\n",
       "      <td>48.0</td>\n",
       "    </tr>\n",
       "    <tr>\n",
       "      <th>15</th>\n",
       "      <td>Urban</td>\n",
       "      <td>KOCRES12DEL01</td>\n",
       "      <td>48.0</td>\n",
       "    </tr>\n",
       "    <tr>\n",
       "      <th>16</th>\n",
       "      <td>Urban</td>\n",
       "      <td>PUNERES08DEL02</td>\n",
       "      <td>47.0</td>\n",
       "    </tr>\n",
       "    <tr>\n",
       "      <th>17</th>\n",
       "      <td>Urban</td>\n",
       "      <td>KOCRES20DEL02</td>\n",
       "      <td>46.0</td>\n",
       "    </tr>\n",
       "    <tr>\n",
       "      <th>18</th>\n",
       "      <td>Urban</td>\n",
       "      <td>MYSRES11DEL03</td>\n",
       "      <td>46.0</td>\n",
       "    </tr>\n",
       "    <tr>\n",
       "      <th>19</th>\n",
       "      <td>Urban</td>\n",
       "      <td>AGRRES17DEL03</td>\n",
       "      <td>45.0</td>\n",
       "    </tr>\n",
       "    <tr>\n",
       "      <th>20</th>\n",
       "      <td>Semi-Urban</td>\n",
       "      <td>JAPRES09DEL01</td>\n",
       "      <td>54.0</td>\n",
       "    </tr>\n",
       "    <tr>\n",
       "      <th>21</th>\n",
       "      <td>Semi-Urban</td>\n",
       "      <td>LUDHRES05DEL01</td>\n",
       "      <td>54.0</td>\n",
       "    </tr>\n",
       "    <tr>\n",
       "      <th>22</th>\n",
       "      <td>Semi-Urban</td>\n",
       "      <td>MYSRES04DEL03</td>\n",
       "      <td>54.0</td>\n",
       "    </tr>\n",
       "    <tr>\n",
       "      <th>23</th>\n",
       "      <td>Semi-Urban</td>\n",
       "      <td>JAPRES08DEL02</td>\n",
       "      <td>53.0</td>\n",
       "    </tr>\n",
       "    <tr>\n",
       "      <th>24</th>\n",
       "      <td>Semi-Urban</td>\n",
       "      <td>JAPRES19DEL03</td>\n",
       "      <td>53.0</td>\n",
       "    </tr>\n",
       "    <tr>\n",
       "      <th>25</th>\n",
       "      <td>Semi-Urban</td>\n",
       "      <td>MYSRES12DEL02</td>\n",
       "      <td>53.0</td>\n",
       "    </tr>\n",
       "    <tr>\n",
       "      <th>26</th>\n",
       "      <td>Semi-Urban</td>\n",
       "      <td>MYSRES16DEL01</td>\n",
       "      <td>53.0</td>\n",
       "    </tr>\n",
       "    <tr>\n",
       "      <th>27</th>\n",
       "      <td>Semi-Urban</td>\n",
       "      <td>VADRES02DEL01</td>\n",
       "      <td>53.0</td>\n",
       "    </tr>\n",
       "    <tr>\n",
       "      <th>28</th>\n",
       "      <td>Semi-Urban</td>\n",
       "      <td>PUNERES08DEL01</td>\n",
       "      <td>52.0</td>\n",
       "    </tr>\n",
       "    <tr>\n",
       "      <th>29</th>\n",
       "      <td>Semi-Urban</td>\n",
       "      <td>BHPRES07DEL01</td>\n",
       "      <td>50.0</td>\n",
       "    </tr>\n",
       "  </tbody>\n",
       "</table>\n",
       "</div>"
      ],
      "text/plain": [
       "             City Delivery_person_ID  Time_taken(min)\n",
       "0   Metropolitian     LUDHRES19DEL03             51.0\n",
       "1   Metropolitian      BHPRES05DEL01             49.0\n",
       "2   Metropolitian      AGRRES02DEL01             48.0\n",
       "3   Metropolitian      AGRRES13DEL01             48.0\n",
       "4   Metropolitian      ALHRES18DEL02             48.0\n",
       "5   Metropolitian      KOCRES12DEL01             48.0\n",
       "6   Metropolitian      AGRRES02DEL02             47.0\n",
       "7   Metropolitian      AGRRES20DEL02             46.0\n",
       "8   Metropolitian      GOARES13DEL01             46.0\n",
       "9   Metropolitian     PUNERES19DEL03             46.0\n",
       "10          Urban     CHENRES09DEL02             49.0\n",
       "11          Urban      GOARES19DEL01             49.0\n",
       "12          Urban      MUMRES19DEL02             49.0\n",
       "13          Urban   RANCHIRES20DEL03             49.0\n",
       "14          Urban      ALHRES11DEL02             48.0\n",
       "15          Urban      KOCRES12DEL01             48.0\n",
       "16          Urban     PUNERES08DEL02             47.0\n",
       "17          Urban      KOCRES20DEL02             46.0\n",
       "18          Urban      MYSRES11DEL03             46.0\n",
       "19          Urban      AGRRES17DEL03             45.0\n",
       "20     Semi-Urban      JAPRES09DEL01             54.0\n",
       "21     Semi-Urban     LUDHRES05DEL01             54.0\n",
       "22     Semi-Urban      MYSRES04DEL03             54.0\n",
       "23     Semi-Urban      JAPRES08DEL02             53.0\n",
       "24     Semi-Urban      JAPRES19DEL03             53.0\n",
       "25     Semi-Urban      MYSRES12DEL02             53.0\n",
       "26     Semi-Urban      MYSRES16DEL01             53.0\n",
       "27     Semi-Urban      VADRES02DEL01             53.0\n",
       "28     Semi-Urban     PUNERES08DEL01             52.0\n",
       "29     Semi-Urban      BHPRES07DEL01             50.0"
      ]
     },
     "execution_count": 41,
     "metadata": {},
     "output_type": "execute_result"
    }
   ],
   "source": [
    "df_ent_mais_len = df1.loc[:, ['Delivery_person_ID', 'City', 'Time_taken(min)']].groupby(['City', 'Delivery_person_ID']).mean().sort_values(['City', 'Time_taken(min)'], ascending=False).reset_index()\n",
    "\n",
    "df_aux01 = df_ent_mais_len.loc[df_ent_mais_len['City'] == 'Metropolitian', :].head(10)\n",
    "df_aux02 = df_ent_mais_len.loc[df_ent_mais_len['City'] == 'Urban', :].head(10)\n",
    "df_aux03 = df_ent_mais_len.loc[df_ent_mais_len['City'] == 'Semi-Urban', :].head(10)\n",
    "\n",
    "df_ent_mais_len = pd.concat( [df_aux01, df_aux02, df_aux03]).reset_index(drop=True)\n",
    "df_ent_mais_len\n"
   ]
  },
  {
   "cell_type": "markdown",
   "id": "e94d2ff1",
   "metadata": {},
   "source": [
    "# Quantidade de Entregadores"
   ]
  },
  {
   "cell_type": "code",
   "execution_count": 42,
   "id": "99e11b34",
   "metadata": {},
   "outputs": [
    {
     "name": "stdout",
     "output_type": "stream",
     "text": [
      "A quantidade de entregadores é 1244\n"
     ]
    }
   ],
   "source": [
    "qnt_entregadores = len(df1.loc[:, 'Delivery_person_ID'].unique())\n",
    "print(f'A quantidade de entregadores é {qnt_entregadores}')"
   ]
  },
  {
   "cell_type": "markdown",
   "id": "dcec65c7",
   "metadata": {},
   "source": [
    "# Distancia Média das Entregas"
   ]
  },
  {
   "cell_type": "code",
   "execution_count": 43,
   "id": "66f7e6c5",
   "metadata": {},
   "outputs": [
    {
     "data": {
      "text/plain": [
       "30.13"
      ]
     },
     "execution_count": 43,
     "metadata": {},
     "output_type": "execute_result"
    }
   ],
   "source": [
    "cols = ['Delivery_location_latitude', 'Delivery_location_longitude', 'Restaurant_latitude', 'Restaurant_longitude']\n",
    "df1['distance'] = df1.apply(lambda x: haversine((x['Restaurant_latitude'], x['Restaurant_longitude']),\n",
    "                                               (x['Delivery_location_latitude'], x['Delivery_location_longitude'])), axis=1)\n",
    "\n",
    "dist_media = np.round(df1['distance'].mean(), 2)\n",
    "\n",
    "dist_media"
   ]
  },
  {
   "cell_type": "markdown",
   "id": "2c76c141",
   "metadata": {},
   "source": [
    "# Tempo médio de entrega durante Eventos"
   ]
  },
  {
   "cell_type": "code",
   "execution_count": 44,
   "id": "890d163c",
   "metadata": {},
   "outputs": [
    {
     "data": {
      "text/plain": [
       "'44:59'"
      ]
     },
     "execution_count": 44,
     "metadata": {},
     "output_type": "execute_result"
    }
   ],
   "source": [
    "cols = ['Time_taken(min)', 'Festival']\n",
    "temp_med_fest = df1.loc[:, cols].groupby('Festival').agg({'Time_taken(min)': ['mean', 'std']})\n",
    "\n",
    "temp_med_fest.columns = ['Tempo Medio', 'Desv Padrao']\n",
    "temp_med_fest = temp_med_fest.reset_index()\n",
    "temp_med_fest = np.round(temp_med_fest.loc[temp_med_fest['Festival'] == 'Yes', 'Tempo Medio'], 2)\n",
    "\n",
    "\n",
    "# Função para formatar minutos e segundos\n",
    "def formatar_tempo(media_em_minutos):\n",
    "    minutos = int(media_em_minutos)\n",
    "    segundos = round((media_em_minutos - minutos) * 60)\n",
    "    return timedelta(minutes=minutos, seconds=segundos)\n",
    "\n",
    "# Certifique-se de que a Série está convertida para o tipo correto\n",
    "temp_med_fest = temp_med_fest.astype(float)\n",
    "\n",
    "# Usando a função map para aplicar a formatação\n",
    "temp_med_fest_formatada = temp_med_fest.map(formatar_tempo)\n",
    "\n",
    "# Converter a Série para uma lista de strings formatadas\n",
    "temp_med_fest_lista = temp_med_fest_formatada.apply(lambda x: f\"{(x.seconds // 60) % 60:02d}:{x.seconds % 60:02d}\")\n",
    "\n",
    "# Selecione o primeiro valor da lista para usar no método metric\n",
    "valor_metric = temp_med_fest_lista.iloc[0]\n",
    "\n",
    "valor_metric\n",
    "\n"
   ]
  },
  {
   "cell_type": "markdown",
   "id": "f5f48271",
   "metadata": {},
   "source": [
    "# Desvio Padrão do tempo de entrega durante Eventos"
   ]
  },
  {
   "cell_type": "code",
   "execution_count": 45,
   "id": "484b30a1",
   "metadata": {},
   "outputs": [
    {
     "data": {
      "text/plain": [
       "1    3.97\n",
       "Name: Desv Padrao, dtype: float64"
      ]
     },
     "execution_count": 45,
     "metadata": {},
     "output_type": "execute_result"
    }
   ],
   "source": [
    "cols = ['Time_taken(min)', 'Festival']\n",
    "temp_med_fest = df1.loc[:, cols].groupby('Festival').agg({'Time_taken(min)': ['mean', 'std']})\n",
    "\n",
    "temp_med_fest.columns = ['Tempo Medio', 'Desv Padrao']\n",
    "temp_med_fest = temp_med_fest.reset_index()\n",
    "temp_med_fest = np.round(temp_med_fest.loc[temp_med_fest['Festival'] == 'Yes', 'Desv Padrao'], 2)\n",
    "\n",
    "\n",
    "# Função para formatar minutos e segundos\n",
    "def formatar_tempo(media_em_minutos):\n",
    "    minutos = int(media_em_minutos)\n",
    "    segundos = round((media_em_minutos - minutos) * 60)\n",
    "    return timedelta(minutes=minutos, seconds=segundos)\n",
    "\n",
    "# Certifique-se de que a Série está convertida para o tipo correto\n",
    "temp_med_fest = temp_med_fest.astype(float)\n",
    "\n",
    "# Usando a função map para aplicar a formatação\n",
    "temp_med_fest_formatada = temp_med_fest.map(formatar_tempo)\n",
    "\n",
    "# Converter a Série para uma lista de strings formatadas\n",
    "temp_med_fest_lista = temp_med_fest_formatada.apply(lambda x: f\"{(x.seconds // 60) % 60:02d}:{x.seconds % 60:02d}\")\n",
    "\n",
    "# Selecione o primeiro valor da lista para usar no método metric\n",
    "valor_metric = temp_med_fest_lista.iloc[0]\n",
    "\n",
    "temp_med_fest\n",
    "\n"
   ]
  },
  {
   "cell_type": "markdown",
   "id": "0c88819b",
   "metadata": {},
   "source": [
    "# Tempo Médio de Entrega por Cidade"
   ]
  },
  {
   "cell_type": "code",
   "execution_count": 46,
   "id": "200b04f4",
   "metadata": {},
   "outputs": [
    {
     "data": {
      "text/html": [
       "<div>\n",
       "<style scoped>\n",
       "    .dataframe tbody tr th:only-of-type {\n",
       "        vertical-align: middle;\n",
       "    }\n",
       "\n",
       "    .dataframe tbody tr th {\n",
       "        vertical-align: top;\n",
       "    }\n",
       "\n",
       "    .dataframe thead th {\n",
       "        text-align: right;\n",
       "    }\n",
       "</style>\n",
       "<table border=\"1\" class=\"dataframe\">\n",
       "  <thead>\n",
       "    <tr style=\"text-align: right;\">\n",
       "      <th></th>\n",
       "      <th>City</th>\n",
       "      <th>distance</th>\n",
       "    </tr>\n",
       "  </thead>\n",
       "  <tbody>\n",
       "    <tr>\n",
       "      <th>0</th>\n",
       "      <td>Metropolitian</td>\n",
       "      <td>30.808076</td>\n",
       "    </tr>\n",
       "    <tr>\n",
       "      <th>1</th>\n",
       "      <td>Semi-Urban</td>\n",
       "      <td>12.544586</td>\n",
       "    </tr>\n",
       "    <tr>\n",
       "      <th>2</th>\n",
       "      <td>Urban</td>\n",
       "      <td>28.107670</td>\n",
       "    </tr>\n",
       "  </tbody>\n",
       "</table>\n",
       "</div>"
      ],
      "text/plain": [
       "            City   distance\n",
       "0  Metropolitian  30.808076\n",
       "1     Semi-Urban  12.544586\n",
       "2          Urban  28.107670"
      ]
     },
     "execution_count": 46,
     "metadata": {},
     "output_type": "execute_result"
    }
   ],
   "source": [
    "cols = ['Delivery_location_latitude', 'Delivery_location_longitude', 'Restaurant_latitude', 'Restaurant_longitude']\n",
    "df1['distance'] = df1.apply(lambda x: haversine((x['Restaurant_latitude'], x['Restaurant_longitude']),\n",
    "                                               (x['Delivery_location_latitude'], x['Delivery_location_longitude'])), axis=1)\n",
    "\n",
    "tempo_medio_cidades = df1.loc[:, ['City', 'distance']].groupby('City').mean().reset_index()\n",
    "tempo_medio_cidades\n"
   ]
  },
  {
   "cell_type": "markdown",
   "id": "f0330f99",
   "metadata": {},
   "source": [
    "#"
   ]
  },
  {
   "cell_type": "markdown",
   "id": "349e2c81",
   "metadata": {},
   "source": [
    "# Tempo Médio com Desv Padrão"
   ]
  },
  {
   "cell_type": "code",
   "execution_count": 47,
   "id": "adbf5f69",
   "metadata": {},
   "outputs": [
    {
     "data": {
      "text/html": [
       "<div>\n",
       "<style scoped>\n",
       "    .dataframe tbody tr th:only-of-type {\n",
       "        vertical-align: middle;\n",
       "    }\n",
       "\n",
       "    .dataframe tbody tr th {\n",
       "        vertical-align: top;\n",
       "    }\n",
       "\n",
       "    .dataframe thead th {\n",
       "        text-align: right;\n",
       "    }\n",
       "</style>\n",
       "<table border=\"1\" class=\"dataframe\">\n",
       "  <thead>\n",
       "    <tr style=\"text-align: right;\">\n",
       "      <th></th>\n",
       "      <th>City</th>\n",
       "      <th>Tempo Medio</th>\n",
       "      <th>Desv Padrao</th>\n",
       "    </tr>\n",
       "  </thead>\n",
       "  <tbody>\n",
       "    <tr>\n",
       "      <th>0</th>\n",
       "      <td>Metropolitian</td>\n",
       "      <td>27.671028</td>\n",
       "      <td>9.151402</td>\n",
       "    </tr>\n",
       "    <tr>\n",
       "      <th>1</th>\n",
       "      <td>Semi-Urban</td>\n",
       "      <td>49.851852</td>\n",
       "      <td>2.741472</td>\n",
       "    </tr>\n",
       "    <tr>\n",
       "      <th>2</th>\n",
       "      <td>Urban</td>\n",
       "      <td>22.994343</td>\n",
       "      <td>8.951826</td>\n",
       "    </tr>\n",
       "  </tbody>\n",
       "</table>\n",
       "</div>"
      ],
      "text/plain": [
       "            City  Tempo Medio  Desv Padrao\n",
       "0  Metropolitian    27.671028     9.151402\n",
       "1     Semi-Urban    49.851852     2.741472\n",
       "2          Urban    22.994343     8.951826"
      ]
     },
     "execution_count": 47,
     "metadata": {},
     "output_type": "execute_result"
    }
   ],
   "source": [
    "cols = ['Delivery_location_latitude', 'Delivery_location_longitude', 'Restaurant_latitude', 'Restaurant_longitude']\n",
    "df_aux = df1.loc[:, ['City', 'Time_taken(min)']].groupby('City').agg({'Time_taken(min)': ['mean', 'std']})\n",
    "df_aux.columns = ['Tempo Medio', 'Desv Padrao']\n",
    "df_aux = df_aux.reset_index()\n",
    "\n",
    "df_aux"
   ]
  },
  {
   "cell_type": "markdown",
   "id": "fae7c2bd",
   "metadata": {},
   "source": [
    "# Distribuição do Tempo"
   ]
  },
  {
   "cell_type": "code",
   "execution_count": 63,
   "id": "08603d36",
   "metadata": {},
   "outputs": [
    {
     "data": {
      "application/vnd.plotly.v1+json": {
       "config": {
        "plotlyServerURL": "https://plot.ly"
       },
       "data": [
        {
         "customdata": [
          9.15140225624466,
          2.7414721438799097,
          8.95182596491088
         ],
         "error_y": {
          "array": [
           9.15140225624466,
           2.7414721438799097,
           8.95182596491088
          ],
          "type": "data"
         },
         "hovertemplate": "%{x}: %{y:.6f} ± %{customdata:.2f}",
         "name": "",
         "type": "bar",
         "x": [
          "Metropolitian",
          "Semi-Urban",
          "Urban"
         ],
         "y": [
          27.671028381865096,
          49.851851851851855,
          22.99434318038969
         ]
        }
       ],
       "layout": {
        "barmode": "group",
        "template": {
         "data": {
          "bar": [
           {
            "error_x": {
             "color": "#2a3f5f"
            },
            "error_y": {
             "color": "#2a3f5f"
            },
            "marker": {
             "line": {
              "color": "#E5ECF6",
              "width": 0.5
             },
             "pattern": {
              "fillmode": "overlay",
              "size": 10,
              "solidity": 0.2
             }
            },
            "type": "bar"
           }
          ],
          "barpolar": [
           {
            "marker": {
             "line": {
              "color": "#E5ECF6",
              "width": 0.5
             },
             "pattern": {
              "fillmode": "overlay",
              "size": 10,
              "solidity": 0.2
             }
            },
            "type": "barpolar"
           }
          ],
          "carpet": [
           {
            "aaxis": {
             "endlinecolor": "#2a3f5f",
             "gridcolor": "white",
             "linecolor": "white",
             "minorgridcolor": "white",
             "startlinecolor": "#2a3f5f"
            },
            "baxis": {
             "endlinecolor": "#2a3f5f",
             "gridcolor": "white",
             "linecolor": "white",
             "minorgridcolor": "white",
             "startlinecolor": "#2a3f5f"
            },
            "type": "carpet"
           }
          ],
          "choropleth": [
           {
            "colorbar": {
             "outlinewidth": 0,
             "ticks": ""
            },
            "type": "choropleth"
           }
          ],
          "contour": [
           {
            "colorbar": {
             "outlinewidth": 0,
             "ticks": ""
            },
            "colorscale": [
             [
              0,
              "#0d0887"
             ],
             [
              0.1111111111111111,
              "#46039f"
             ],
             [
              0.2222222222222222,
              "#7201a8"
             ],
             [
              0.3333333333333333,
              "#9c179e"
             ],
             [
              0.4444444444444444,
              "#bd3786"
             ],
             [
              0.5555555555555556,
              "#d8576b"
             ],
             [
              0.6666666666666666,
              "#ed7953"
             ],
             [
              0.7777777777777778,
              "#fb9f3a"
             ],
             [
              0.8888888888888888,
              "#fdca26"
             ],
             [
              1,
              "#f0f921"
             ]
            ],
            "type": "contour"
           }
          ],
          "contourcarpet": [
           {
            "colorbar": {
             "outlinewidth": 0,
             "ticks": ""
            },
            "type": "contourcarpet"
           }
          ],
          "heatmap": [
           {
            "colorbar": {
             "outlinewidth": 0,
             "ticks": ""
            },
            "colorscale": [
             [
              0,
              "#0d0887"
             ],
             [
              0.1111111111111111,
              "#46039f"
             ],
             [
              0.2222222222222222,
              "#7201a8"
             ],
             [
              0.3333333333333333,
              "#9c179e"
             ],
             [
              0.4444444444444444,
              "#bd3786"
             ],
             [
              0.5555555555555556,
              "#d8576b"
             ],
             [
              0.6666666666666666,
              "#ed7953"
             ],
             [
              0.7777777777777778,
              "#fb9f3a"
             ],
             [
              0.8888888888888888,
              "#fdca26"
             ],
             [
              1,
              "#f0f921"
             ]
            ],
            "type": "heatmap"
           }
          ],
          "heatmapgl": [
           {
            "colorbar": {
             "outlinewidth": 0,
             "ticks": ""
            },
            "colorscale": [
             [
              0,
              "#0d0887"
             ],
             [
              0.1111111111111111,
              "#46039f"
             ],
             [
              0.2222222222222222,
              "#7201a8"
             ],
             [
              0.3333333333333333,
              "#9c179e"
             ],
             [
              0.4444444444444444,
              "#bd3786"
             ],
             [
              0.5555555555555556,
              "#d8576b"
             ],
             [
              0.6666666666666666,
              "#ed7953"
             ],
             [
              0.7777777777777778,
              "#fb9f3a"
             ],
             [
              0.8888888888888888,
              "#fdca26"
             ],
             [
              1,
              "#f0f921"
             ]
            ],
            "type": "heatmapgl"
           }
          ],
          "histogram": [
           {
            "marker": {
             "pattern": {
              "fillmode": "overlay",
              "size": 10,
              "solidity": 0.2
             }
            },
            "type": "histogram"
           }
          ],
          "histogram2d": [
           {
            "colorbar": {
             "outlinewidth": 0,
             "ticks": ""
            },
            "colorscale": [
             [
              0,
              "#0d0887"
             ],
             [
              0.1111111111111111,
              "#46039f"
             ],
             [
              0.2222222222222222,
              "#7201a8"
             ],
             [
              0.3333333333333333,
              "#9c179e"
             ],
             [
              0.4444444444444444,
              "#bd3786"
             ],
             [
              0.5555555555555556,
              "#d8576b"
             ],
             [
              0.6666666666666666,
              "#ed7953"
             ],
             [
              0.7777777777777778,
              "#fb9f3a"
             ],
             [
              0.8888888888888888,
              "#fdca26"
             ],
             [
              1,
              "#f0f921"
             ]
            ],
            "type": "histogram2d"
           }
          ],
          "histogram2dcontour": [
           {
            "colorbar": {
             "outlinewidth": 0,
             "ticks": ""
            },
            "colorscale": [
             [
              0,
              "#0d0887"
             ],
             [
              0.1111111111111111,
              "#46039f"
             ],
             [
              0.2222222222222222,
              "#7201a8"
             ],
             [
              0.3333333333333333,
              "#9c179e"
             ],
             [
              0.4444444444444444,
              "#bd3786"
             ],
             [
              0.5555555555555556,
              "#d8576b"
             ],
             [
              0.6666666666666666,
              "#ed7953"
             ],
             [
              0.7777777777777778,
              "#fb9f3a"
             ],
             [
              0.8888888888888888,
              "#fdca26"
             ],
             [
              1,
              "#f0f921"
             ]
            ],
            "type": "histogram2dcontour"
           }
          ],
          "mesh3d": [
           {
            "colorbar": {
             "outlinewidth": 0,
             "ticks": ""
            },
            "type": "mesh3d"
           }
          ],
          "parcoords": [
           {
            "line": {
             "colorbar": {
              "outlinewidth": 0,
              "ticks": ""
             }
            },
            "type": "parcoords"
           }
          ],
          "pie": [
           {
            "automargin": true,
            "type": "pie"
           }
          ],
          "scatter": [
           {
            "fillpattern": {
             "fillmode": "overlay",
             "size": 10,
             "solidity": 0.2
            },
            "type": "scatter"
           }
          ],
          "scatter3d": [
           {
            "line": {
             "colorbar": {
              "outlinewidth": 0,
              "ticks": ""
             }
            },
            "marker": {
             "colorbar": {
              "outlinewidth": 0,
              "ticks": ""
             }
            },
            "type": "scatter3d"
           }
          ],
          "scattercarpet": [
           {
            "marker": {
             "colorbar": {
              "outlinewidth": 0,
              "ticks": ""
             }
            },
            "type": "scattercarpet"
           }
          ],
          "scattergeo": [
           {
            "marker": {
             "colorbar": {
              "outlinewidth": 0,
              "ticks": ""
             }
            },
            "type": "scattergeo"
           }
          ],
          "scattergl": [
           {
            "marker": {
             "colorbar": {
              "outlinewidth": 0,
              "ticks": ""
             }
            },
            "type": "scattergl"
           }
          ],
          "scattermapbox": [
           {
            "marker": {
             "colorbar": {
              "outlinewidth": 0,
              "ticks": ""
             }
            },
            "type": "scattermapbox"
           }
          ],
          "scatterpolar": [
           {
            "marker": {
             "colorbar": {
              "outlinewidth": 0,
              "ticks": ""
             }
            },
            "type": "scatterpolar"
           }
          ],
          "scatterpolargl": [
           {
            "marker": {
             "colorbar": {
              "outlinewidth": 0,
              "ticks": ""
             }
            },
            "type": "scatterpolargl"
           }
          ],
          "scatterternary": [
           {
            "marker": {
             "colorbar": {
              "outlinewidth": 0,
              "ticks": ""
             }
            },
            "type": "scatterternary"
           }
          ],
          "surface": [
           {
            "colorbar": {
             "outlinewidth": 0,
             "ticks": ""
            },
            "colorscale": [
             [
              0,
              "#0d0887"
             ],
             [
              0.1111111111111111,
              "#46039f"
             ],
             [
              0.2222222222222222,
              "#7201a8"
             ],
             [
              0.3333333333333333,
              "#9c179e"
             ],
             [
              0.4444444444444444,
              "#bd3786"
             ],
             [
              0.5555555555555556,
              "#d8576b"
             ],
             [
              0.6666666666666666,
              "#ed7953"
             ],
             [
              0.7777777777777778,
              "#fb9f3a"
             ],
             [
              0.8888888888888888,
              "#fdca26"
             ],
             [
              1,
              "#f0f921"
             ]
            ],
            "type": "surface"
           }
          ],
          "table": [
           {
            "cells": {
             "fill": {
              "color": "#EBF0F8"
             },
             "line": {
              "color": "white"
             }
            },
            "header": {
             "fill": {
              "color": "#C8D4E3"
             },
             "line": {
              "color": "white"
             }
            },
            "type": "table"
           }
          ]
         },
         "layout": {
          "annotationdefaults": {
           "arrowcolor": "#2a3f5f",
           "arrowhead": 0,
           "arrowwidth": 1
          },
          "autotypenumbers": "strict",
          "coloraxis": {
           "colorbar": {
            "outlinewidth": 0,
            "ticks": ""
           }
          },
          "colorscale": {
           "diverging": [
            [
             0,
             "#8e0152"
            ],
            [
             0.1,
             "#c51b7d"
            ],
            [
             0.2,
             "#de77ae"
            ],
            [
             0.3,
             "#f1b6da"
            ],
            [
             0.4,
             "#fde0ef"
            ],
            [
             0.5,
             "#f7f7f7"
            ],
            [
             0.6,
             "#e6f5d0"
            ],
            [
             0.7,
             "#b8e186"
            ],
            [
             0.8,
             "#7fbc41"
            ],
            [
             0.9,
             "#4d9221"
            ],
            [
             1,
             "#276419"
            ]
           ],
           "sequential": [
            [
             0,
             "#0d0887"
            ],
            [
             0.1111111111111111,
             "#46039f"
            ],
            [
             0.2222222222222222,
             "#7201a8"
            ],
            [
             0.3333333333333333,
             "#9c179e"
            ],
            [
             0.4444444444444444,
             "#bd3786"
            ],
            [
             0.5555555555555556,
             "#d8576b"
            ],
            [
             0.6666666666666666,
             "#ed7953"
            ],
            [
             0.7777777777777778,
             "#fb9f3a"
            ],
            [
             0.8888888888888888,
             "#fdca26"
            ],
            [
             1,
             "#f0f921"
            ]
           ],
           "sequentialminus": [
            [
             0,
             "#0d0887"
            ],
            [
             0.1111111111111111,
             "#46039f"
            ],
            [
             0.2222222222222222,
             "#7201a8"
            ],
            [
             0.3333333333333333,
             "#9c179e"
            ],
            [
             0.4444444444444444,
             "#bd3786"
            ],
            [
             0.5555555555555556,
             "#d8576b"
            ],
            [
             0.6666666666666666,
             "#ed7953"
            ],
            [
             0.7777777777777778,
             "#fb9f3a"
            ],
            [
             0.8888888888888888,
             "#fdca26"
            ],
            [
             1,
             "#f0f921"
            ]
           ]
          },
          "colorway": [
           "#636efa",
           "#EF553B",
           "#00cc96",
           "#ab63fa",
           "#FFA15A",
           "#19d3f3",
           "#FF6692",
           "#B6E880",
           "#FF97FF",
           "#FECB52"
          ],
          "font": {
           "color": "#2a3f5f"
          },
          "geo": {
           "bgcolor": "white",
           "lakecolor": "white",
           "landcolor": "#E5ECF6",
           "showlakes": true,
           "showland": true,
           "subunitcolor": "white"
          },
          "hoverlabel": {
           "align": "left"
          },
          "hovermode": "closest",
          "mapbox": {
           "style": "light"
          },
          "paper_bgcolor": "white",
          "plot_bgcolor": "#E5ECF6",
          "polar": {
           "angularaxis": {
            "gridcolor": "white",
            "linecolor": "white",
            "ticks": ""
           },
           "bgcolor": "#E5ECF6",
           "radialaxis": {
            "gridcolor": "white",
            "linecolor": "white",
            "ticks": ""
           }
          },
          "scene": {
           "xaxis": {
            "backgroundcolor": "#E5ECF6",
            "gridcolor": "white",
            "gridwidth": 2,
            "linecolor": "white",
            "showbackground": true,
            "ticks": "",
            "zerolinecolor": "white"
           },
           "yaxis": {
            "backgroundcolor": "#E5ECF6",
            "gridcolor": "white",
            "gridwidth": 2,
            "linecolor": "white",
            "showbackground": true,
            "ticks": "",
            "zerolinecolor": "white"
           },
           "zaxis": {
            "backgroundcolor": "#E5ECF6",
            "gridcolor": "white",
            "gridwidth": 2,
            "linecolor": "white",
            "showbackground": true,
            "ticks": "",
            "zerolinecolor": "white"
           }
          },
          "shapedefaults": {
           "line": {
            "color": "#2a3f5f"
           }
          },
          "ternary": {
           "aaxis": {
            "gridcolor": "white",
            "linecolor": "white",
            "ticks": ""
           },
           "baxis": {
            "gridcolor": "white",
            "linecolor": "white",
            "ticks": ""
           },
           "bgcolor": "#E5ECF6",
           "caxis": {
            "gridcolor": "white",
            "linecolor": "white",
            "ticks": ""
           }
          },
          "title": {
           "x": 0.05
          },
          "xaxis": {
           "automargin": true,
           "gridcolor": "white",
           "linecolor": "white",
           "ticks": "",
           "title": {
            "standoff": 15
           },
           "zerolinecolor": "white",
           "zerolinewidth": 2
          },
          "yaxis": {
           "automargin": true,
           "gridcolor": "white",
           "linecolor": "white",
           "ticks": "",
           "title": {
            "standoff": 15
           },
           "zerolinecolor": "white",
           "zerolinewidth": 2
          }
         }
        }
       }
      }
     },
     "metadata": {},
     "output_type": "display_data"
    }
   ],
   "source": [
    "df_aux = df1.loc[:, ['City', 'Time_taken(min)']].groupby('City').agg({'Time_taken(min)':['mean', 'std']})\n",
    "df_aux.columns = ['avg_time', 'std_time']\n",
    "df_aux = df_aux.reset_index()\n",
    "\n",
    "fig = go.Figure()\n",
    "\n",
    "# Utilize hovertemplate para personalizar o texto que aparece quando você passa o mouse sobre as barras\n",
    "hover_template = '%{x}: %{y:.6f} ± %{customdata:.2f}'\n",
    "fig.add_trace(go.Bar(\n",
    "    name='',\n",
    "    x=df_aux['City'],\n",
    "    y=df_aux['avg_time'],\n",
    "    error_y=dict(type='data', array=df_aux['std_time']),\n",
    "    customdata=df_aux['std_time'],\n",
    "    hovertemplate=hover_template\n",
    "))\n",
    "\n",
    "fig.update_layout(barmode='group')\n",
    "fig.show()\n"
   ]
  },
  {
   "cell_type": "markdown",
   "id": "1fd5a47a",
   "metadata": {},
   "source": [
    "# Tempo Médio e Desvio Padrão de entrega por cidade"
   ]
  },
  {
   "cell_type": "code",
   "execution_count": 79,
   "id": "19b5cdc5",
   "metadata": {},
   "outputs": [
    {
     "data": {
      "application/vnd.plotly.v1+json": {
       "config": {
        "plotlyServerURL": "https://plot.ly"
       },
       "data": [
        {
         "branchvalues": "total",
         "customdata": [
          [
           8.035291687205374
          ],
          [
           3.511884584284247
          ],
          [
           8.48436502978529
          ],
          [
           9.522579512915865
          ],
          [
           2.7185430271518967
          ],
          [
           10.37795244829009
          ],
          [
           7.0119777976769235
          ],
          [
           6.304129904729223
          ],
          [
           8.36940938427996
          ],
          [
           1.5275252316519468
          ],
          [
           8.30668168200928
          ],
          [
           8.338862550741661
          ],
          [
           2.5987801034435085
          ],
          [
           8.550801822910094
          ]
         ],
         "domain": {
          "x": [
           0,
           1
          ],
          "y": [
           0,
           1
          ]
         },
         "hovertemplate": "<b>%{label}</b><br>Tempo Médio: %{value:.2f} minutos<br>Std Time: %{customdata[0]:.2f} minutos",
         "ids": [
          "Metropolitian/High",
          "Semi-Urban/High",
          "Urban/High",
          "Metropolitian/Jam",
          "Semi-Urban/Jam",
          "Urban/Jam",
          "Metropolitian/Low",
          "Urban/Low",
          "Metropolitian/Medium",
          "Semi-Urban/Medium",
          "Urban/Medium",
          "Metropolitian",
          "Semi-Urban",
          "Urban"
         ],
         "labels": [
          "High",
          "High",
          "High",
          "Jam",
          "Jam",
          "Jam",
          "Low",
          "Low",
          "Medium",
          "Medium",
          "Medium",
          "Metropolitian",
          "Semi-Urban",
          "Urban"
         ],
         "marker": {
          "coloraxis": "coloraxis",
          "colors": [
           8.035291687205374,
           3.511884584284247,
           8.48436502978529,
           9.522579512915865,
           2.7185430271518967,
           10.37795244829009,
           7.0119777976769235,
           6.304129904729223,
           8.36940938427996,
           1.5275252316519468,
           8.30668168200928,
           8.338862550741661,
           2.5987801034435085,
           8.550801822910094
          ]
         },
         "name": "",
         "parents": [
          "Metropolitian",
          "Semi-Urban",
          "Urban",
          "Metropolitian",
          "Semi-Urban",
          "Urban",
          "Metropolitian",
          "Urban",
          "Metropolitian",
          "Semi-Urban",
          "Urban",
          "",
          "",
          ""
         ],
         "type": "sunburst",
         "values": [
          28.267025089605735,
          49.333333333333336,
          23.71794871794872,
          31.915882678472606,
          50.23809523809524,
          27.829268292682926,
          22.651176470588236,
          19.439749608763695,
          28.060984570168994,
          47.666666666666664,
          22.930434782608696,
          110.89506880883557,
          147.23809523809524,
          93.91740140200403
         ]
        }
       ],
       "layout": {
        "coloraxis": {
         "cmid": 6.7427582081800095,
         "colorbar": {
          "title": {
           "text": "Desvio Padrão de Tempo (minutos)"
          }
         },
         "colorscale": [
          [
           0,
           "rgb(103,0,31)"
          ],
          [
           0.1,
           "rgb(178,24,43)"
          ],
          [
           0.2,
           "rgb(214,96,77)"
          ],
          [
           0.3,
           "rgb(244,165,130)"
          ],
          [
           0.4,
           "rgb(253,219,199)"
          ],
          [
           0.5,
           "rgb(247,247,247)"
          ],
          [
           0.6,
           "rgb(209,229,240)"
          ],
          [
           0.7,
           "rgb(146,197,222)"
          ],
          [
           0.8,
           "rgb(67,147,195)"
          ],
          [
           0.9,
           "rgb(33,102,172)"
          ],
          [
           1,
           "rgb(5,48,97)"
          ]
         ]
        },
        "legend": {
         "tracegroupgap": 0
        },
        "margin": {
         "t": 60
        },
        "template": {
         "data": {
          "bar": [
           {
            "error_x": {
             "color": "#2a3f5f"
            },
            "error_y": {
             "color": "#2a3f5f"
            },
            "marker": {
             "line": {
              "color": "#E5ECF6",
              "width": 0.5
             },
             "pattern": {
              "fillmode": "overlay",
              "size": 10,
              "solidity": 0.2
             }
            },
            "type": "bar"
           }
          ],
          "barpolar": [
           {
            "marker": {
             "line": {
              "color": "#E5ECF6",
              "width": 0.5
             },
             "pattern": {
              "fillmode": "overlay",
              "size": 10,
              "solidity": 0.2
             }
            },
            "type": "barpolar"
           }
          ],
          "carpet": [
           {
            "aaxis": {
             "endlinecolor": "#2a3f5f",
             "gridcolor": "white",
             "linecolor": "white",
             "minorgridcolor": "white",
             "startlinecolor": "#2a3f5f"
            },
            "baxis": {
             "endlinecolor": "#2a3f5f",
             "gridcolor": "white",
             "linecolor": "white",
             "minorgridcolor": "white",
             "startlinecolor": "#2a3f5f"
            },
            "type": "carpet"
           }
          ],
          "choropleth": [
           {
            "colorbar": {
             "outlinewidth": 0,
             "ticks": ""
            },
            "type": "choropleth"
           }
          ],
          "contour": [
           {
            "colorbar": {
             "outlinewidth": 0,
             "ticks": ""
            },
            "colorscale": [
             [
              0,
              "#0d0887"
             ],
             [
              0.1111111111111111,
              "#46039f"
             ],
             [
              0.2222222222222222,
              "#7201a8"
             ],
             [
              0.3333333333333333,
              "#9c179e"
             ],
             [
              0.4444444444444444,
              "#bd3786"
             ],
             [
              0.5555555555555556,
              "#d8576b"
             ],
             [
              0.6666666666666666,
              "#ed7953"
             ],
             [
              0.7777777777777778,
              "#fb9f3a"
             ],
             [
              0.8888888888888888,
              "#fdca26"
             ],
             [
              1,
              "#f0f921"
             ]
            ],
            "type": "contour"
           }
          ],
          "contourcarpet": [
           {
            "colorbar": {
             "outlinewidth": 0,
             "ticks": ""
            },
            "type": "contourcarpet"
           }
          ],
          "heatmap": [
           {
            "colorbar": {
             "outlinewidth": 0,
             "ticks": ""
            },
            "colorscale": [
             [
              0,
              "#0d0887"
             ],
             [
              0.1111111111111111,
              "#46039f"
             ],
             [
              0.2222222222222222,
              "#7201a8"
             ],
             [
              0.3333333333333333,
              "#9c179e"
             ],
             [
              0.4444444444444444,
              "#bd3786"
             ],
             [
              0.5555555555555556,
              "#d8576b"
             ],
             [
              0.6666666666666666,
              "#ed7953"
             ],
             [
              0.7777777777777778,
              "#fb9f3a"
             ],
             [
              0.8888888888888888,
              "#fdca26"
             ],
             [
              1,
              "#f0f921"
             ]
            ],
            "type": "heatmap"
           }
          ],
          "heatmapgl": [
           {
            "colorbar": {
             "outlinewidth": 0,
             "ticks": ""
            },
            "colorscale": [
             [
              0,
              "#0d0887"
             ],
             [
              0.1111111111111111,
              "#46039f"
             ],
             [
              0.2222222222222222,
              "#7201a8"
             ],
             [
              0.3333333333333333,
              "#9c179e"
             ],
             [
              0.4444444444444444,
              "#bd3786"
             ],
             [
              0.5555555555555556,
              "#d8576b"
             ],
             [
              0.6666666666666666,
              "#ed7953"
             ],
             [
              0.7777777777777778,
              "#fb9f3a"
             ],
             [
              0.8888888888888888,
              "#fdca26"
             ],
             [
              1,
              "#f0f921"
             ]
            ],
            "type": "heatmapgl"
           }
          ],
          "histogram": [
           {
            "marker": {
             "pattern": {
              "fillmode": "overlay",
              "size": 10,
              "solidity": 0.2
             }
            },
            "type": "histogram"
           }
          ],
          "histogram2d": [
           {
            "colorbar": {
             "outlinewidth": 0,
             "ticks": ""
            },
            "colorscale": [
             [
              0,
              "#0d0887"
             ],
             [
              0.1111111111111111,
              "#46039f"
             ],
             [
              0.2222222222222222,
              "#7201a8"
             ],
             [
              0.3333333333333333,
              "#9c179e"
             ],
             [
              0.4444444444444444,
              "#bd3786"
             ],
             [
              0.5555555555555556,
              "#d8576b"
             ],
             [
              0.6666666666666666,
              "#ed7953"
             ],
             [
              0.7777777777777778,
              "#fb9f3a"
             ],
             [
              0.8888888888888888,
              "#fdca26"
             ],
             [
              1,
              "#f0f921"
             ]
            ],
            "type": "histogram2d"
           }
          ],
          "histogram2dcontour": [
           {
            "colorbar": {
             "outlinewidth": 0,
             "ticks": ""
            },
            "colorscale": [
             [
              0,
              "#0d0887"
             ],
             [
              0.1111111111111111,
              "#46039f"
             ],
             [
              0.2222222222222222,
              "#7201a8"
             ],
             [
              0.3333333333333333,
              "#9c179e"
             ],
             [
              0.4444444444444444,
              "#bd3786"
             ],
             [
              0.5555555555555556,
              "#d8576b"
             ],
             [
              0.6666666666666666,
              "#ed7953"
             ],
             [
              0.7777777777777778,
              "#fb9f3a"
             ],
             [
              0.8888888888888888,
              "#fdca26"
             ],
             [
              1,
              "#f0f921"
             ]
            ],
            "type": "histogram2dcontour"
           }
          ],
          "mesh3d": [
           {
            "colorbar": {
             "outlinewidth": 0,
             "ticks": ""
            },
            "type": "mesh3d"
           }
          ],
          "parcoords": [
           {
            "line": {
             "colorbar": {
              "outlinewidth": 0,
              "ticks": ""
             }
            },
            "type": "parcoords"
           }
          ],
          "pie": [
           {
            "automargin": true,
            "type": "pie"
           }
          ],
          "scatter": [
           {
            "fillpattern": {
             "fillmode": "overlay",
             "size": 10,
             "solidity": 0.2
            },
            "type": "scatter"
           }
          ],
          "scatter3d": [
           {
            "line": {
             "colorbar": {
              "outlinewidth": 0,
              "ticks": ""
             }
            },
            "marker": {
             "colorbar": {
              "outlinewidth": 0,
              "ticks": ""
             }
            },
            "type": "scatter3d"
           }
          ],
          "scattercarpet": [
           {
            "marker": {
             "colorbar": {
              "outlinewidth": 0,
              "ticks": ""
             }
            },
            "type": "scattercarpet"
           }
          ],
          "scattergeo": [
           {
            "marker": {
             "colorbar": {
              "outlinewidth": 0,
              "ticks": ""
             }
            },
            "type": "scattergeo"
           }
          ],
          "scattergl": [
           {
            "marker": {
             "colorbar": {
              "outlinewidth": 0,
              "ticks": ""
             }
            },
            "type": "scattergl"
           }
          ],
          "scattermapbox": [
           {
            "marker": {
             "colorbar": {
              "outlinewidth": 0,
              "ticks": ""
             }
            },
            "type": "scattermapbox"
           }
          ],
          "scatterpolar": [
           {
            "marker": {
             "colorbar": {
              "outlinewidth": 0,
              "ticks": ""
             }
            },
            "type": "scatterpolar"
           }
          ],
          "scatterpolargl": [
           {
            "marker": {
             "colorbar": {
              "outlinewidth": 0,
              "ticks": ""
             }
            },
            "type": "scatterpolargl"
           }
          ],
          "scatterternary": [
           {
            "marker": {
             "colorbar": {
              "outlinewidth": 0,
              "ticks": ""
             }
            },
            "type": "scatterternary"
           }
          ],
          "surface": [
           {
            "colorbar": {
             "outlinewidth": 0,
             "ticks": ""
            },
            "colorscale": [
             [
              0,
              "#0d0887"
             ],
             [
              0.1111111111111111,
              "#46039f"
             ],
             [
              0.2222222222222222,
              "#7201a8"
             ],
             [
              0.3333333333333333,
              "#9c179e"
             ],
             [
              0.4444444444444444,
              "#bd3786"
             ],
             [
              0.5555555555555556,
              "#d8576b"
             ],
             [
              0.6666666666666666,
              "#ed7953"
             ],
             [
              0.7777777777777778,
              "#fb9f3a"
             ],
             [
              0.8888888888888888,
              "#fdca26"
             ],
             [
              1,
              "#f0f921"
             ]
            ],
            "type": "surface"
           }
          ],
          "table": [
           {
            "cells": {
             "fill": {
              "color": "#EBF0F8"
             },
             "line": {
              "color": "white"
             }
            },
            "header": {
             "fill": {
              "color": "#C8D4E3"
             },
             "line": {
              "color": "white"
             }
            },
            "type": "table"
           }
          ]
         },
         "layout": {
          "annotationdefaults": {
           "arrowcolor": "#2a3f5f",
           "arrowhead": 0,
           "arrowwidth": 1
          },
          "autotypenumbers": "strict",
          "coloraxis": {
           "colorbar": {
            "outlinewidth": 0,
            "ticks": ""
           }
          },
          "colorscale": {
           "diverging": [
            [
             0,
             "#8e0152"
            ],
            [
             0.1,
             "#c51b7d"
            ],
            [
             0.2,
             "#de77ae"
            ],
            [
             0.3,
             "#f1b6da"
            ],
            [
             0.4,
             "#fde0ef"
            ],
            [
             0.5,
             "#f7f7f7"
            ],
            [
             0.6,
             "#e6f5d0"
            ],
            [
             0.7,
             "#b8e186"
            ],
            [
             0.8,
             "#7fbc41"
            ],
            [
             0.9,
             "#4d9221"
            ],
            [
             1,
             "#276419"
            ]
           ],
           "sequential": [
            [
             0,
             "#0d0887"
            ],
            [
             0.1111111111111111,
             "#46039f"
            ],
            [
             0.2222222222222222,
             "#7201a8"
            ],
            [
             0.3333333333333333,
             "#9c179e"
            ],
            [
             0.4444444444444444,
             "#bd3786"
            ],
            [
             0.5555555555555556,
             "#d8576b"
            ],
            [
             0.6666666666666666,
             "#ed7953"
            ],
            [
             0.7777777777777778,
             "#fb9f3a"
            ],
            [
             0.8888888888888888,
             "#fdca26"
            ],
            [
             1,
             "#f0f921"
            ]
           ],
           "sequentialminus": [
            [
             0,
             "#0d0887"
            ],
            [
             0.1111111111111111,
             "#46039f"
            ],
            [
             0.2222222222222222,
             "#7201a8"
            ],
            [
             0.3333333333333333,
             "#9c179e"
            ],
            [
             0.4444444444444444,
             "#bd3786"
            ],
            [
             0.5555555555555556,
             "#d8576b"
            ],
            [
             0.6666666666666666,
             "#ed7953"
            ],
            [
             0.7777777777777778,
             "#fb9f3a"
            ],
            [
             0.8888888888888888,
             "#fdca26"
            ],
            [
             1,
             "#f0f921"
            ]
           ]
          },
          "colorway": [
           "#636efa",
           "#EF553B",
           "#00cc96",
           "#ab63fa",
           "#FFA15A",
           "#19d3f3",
           "#FF6692",
           "#B6E880",
           "#FF97FF",
           "#FECB52"
          ],
          "font": {
           "color": "#2a3f5f"
          },
          "geo": {
           "bgcolor": "white",
           "lakecolor": "white",
           "landcolor": "#E5ECF6",
           "showlakes": true,
           "showland": true,
           "subunitcolor": "white"
          },
          "hoverlabel": {
           "align": "left"
          },
          "hovermode": "closest",
          "mapbox": {
           "style": "light"
          },
          "paper_bgcolor": "white",
          "plot_bgcolor": "#E5ECF6",
          "polar": {
           "angularaxis": {
            "gridcolor": "white",
            "linecolor": "white",
            "ticks": ""
           },
           "bgcolor": "#E5ECF6",
           "radialaxis": {
            "gridcolor": "white",
            "linecolor": "white",
            "ticks": ""
           }
          },
          "scene": {
           "xaxis": {
            "backgroundcolor": "#E5ECF6",
            "gridcolor": "white",
            "gridwidth": 2,
            "linecolor": "white",
            "showbackground": true,
            "ticks": "",
            "zerolinecolor": "white"
           },
           "yaxis": {
            "backgroundcolor": "#E5ECF6",
            "gridcolor": "white",
            "gridwidth": 2,
            "linecolor": "white",
            "showbackground": true,
            "ticks": "",
            "zerolinecolor": "white"
           },
           "zaxis": {
            "backgroundcolor": "#E5ECF6",
            "gridcolor": "white",
            "gridwidth": 2,
            "linecolor": "white",
            "showbackground": true,
            "ticks": "",
            "zerolinecolor": "white"
           }
          },
          "shapedefaults": {
           "line": {
            "color": "#2a3f5f"
           }
          },
          "ternary": {
           "aaxis": {
            "gridcolor": "white",
            "linecolor": "white",
            "ticks": ""
           },
           "baxis": {
            "gridcolor": "white",
            "linecolor": "white",
            "ticks": ""
           },
           "bgcolor": "#E5ECF6",
           "caxis": {
            "gridcolor": "white",
            "linecolor": "white",
            "ticks": ""
           }
          },
          "title": {
           "x": 0.05
          },
          "xaxis": {
           "automargin": true,
           "gridcolor": "white",
           "linecolor": "white",
           "ticks": "",
           "title": {
            "standoff": 15
           },
           "zerolinecolor": "white",
           "zerolinewidth": 2
          },
          "yaxis": {
           "automargin": true,
           "gridcolor": "white",
           "linecolor": "white",
           "ticks": "",
           "title": {
            "standoff": 15
           },
           "zerolinecolor": "white",
           "zerolinewidth": 2
          }
         }
        }
       }
      }
     },
     "metadata": {},
     "output_type": "display_data"
    }
   ],
   "source": [
    "cols =['City', 'Time_taken(min)', 'Road_traffic_density']\n",
    "df_aux = df1.loc[:, cols].groupby(['City', 'Road_traffic_density']).agg({'Time_taken(min)' : ['mean', 'std']})\n",
    "\n",
    "df_aux.columns = ['avg_time', 'std_time']\n",
    "\n",
    "df_aux = df_aux.reset_index()\n",
    "\n",
    "fig = px.sunburst(df_aux, \n",
    "                  path=['City', 'Road_traffic_density'], \n",
    "                  values='avg_time',\n",
    "                  color='std_time',\n",
    "                  color_continuous_scale='RdBu',\n",
    "                  color_continuous_midpoint=np.average(df_aux['std_time']))\n",
    "\n",
    "# Personalizando o layout da dica de ferramenta\n",
    "fig.update_traces(\n",
    "    hovertemplate='<b>%{label}</b><br>Tempo Médio: %{value:.2f} minutos<br>Std Time: %{customdata[0]:.2f} minutos'\n",
    ")\n",
    "\n",
    "# Ajustando o título da barra de cores\n",
    "fig.update_layout(coloraxis_colorbar_title='Desvio Padrão de Tempo (minutos)')\n",
    "\n",
    "fig.show()"
   ]
  },
  {
   "cell_type": "markdown",
   "id": "17dcd3bf",
   "metadata": {},
   "source": [
    "# Distribuição da Distância por Tipo de Alimento"
   ]
  },
  {
   "cell_type": "code",
   "execution_count": 85,
   "id": "44a7df17",
   "metadata": {},
   "outputs": [
    {
     "data": {
      "text/html": [
       "<div>\n",
       "<style scoped>\n",
       "    .dataframe tbody tr th:only-of-type {\n",
       "        vertical-align: middle;\n",
       "    }\n",
       "\n",
       "    .dataframe tbody tr th {\n",
       "        vertical-align: top;\n",
       "    }\n",
       "\n",
       "    .dataframe thead th {\n",
       "        text-align: right;\n",
       "    }\n",
       "</style>\n",
       "<table border=\"1\" class=\"dataframe\">\n",
       "  <thead>\n",
       "    <tr style=\"text-align: right;\">\n",
       "      <th></th>\n",
       "      <th>Cidade</th>\n",
       "      <th>Tipo de Pedido</th>\n",
       "      <th>Tempo Medio (min)</th>\n",
       "      <th>Desvio Padrão (min)</th>\n",
       "    </tr>\n",
       "  </thead>\n",
       "  <tbody>\n",
       "    <tr>\n",
       "      <th>0</th>\n",
       "      <td>Metropolitian</td>\n",
       "      <td>Buffet</td>\n",
       "      <td>27.676606</td>\n",
       "      <td>9.417227</td>\n",
       "    </tr>\n",
       "    <tr>\n",
       "      <th>1</th>\n",
       "      <td>Metropolitian</td>\n",
       "      <td>Drinks</td>\n",
       "      <td>27.368960</td>\n",
       "      <td>8.853055</td>\n",
       "    </tr>\n",
       "    <tr>\n",
       "      <th>2</th>\n",
       "      <td>Metropolitian</td>\n",
       "      <td>Meal</td>\n",
       "      <td>27.542530</td>\n",
       "      <td>9.066485</td>\n",
       "    </tr>\n",
       "    <tr>\n",
       "      <th>3</th>\n",
       "      <td>Metropolitian</td>\n",
       "      <td>Snack</td>\n",
       "      <td>28.103474</td>\n",
       "      <td>9.267615</td>\n",
       "    </tr>\n",
       "    <tr>\n",
       "      <th>4</th>\n",
       "      <td>Semi-Urban</td>\n",
       "      <td>Buffet</td>\n",
       "      <td>50.250000</td>\n",
       "      <td>2.915476</td>\n",
       "    </tr>\n",
       "    <tr>\n",
       "      <th>5</th>\n",
       "      <td>Semi-Urban</td>\n",
       "      <td>Drinks</td>\n",
       "      <td>52.250000</td>\n",
       "      <td>2.217356</td>\n",
       "    </tr>\n",
       "    <tr>\n",
       "      <th>6</th>\n",
       "      <td>Semi-Urban</td>\n",
       "      <td>Meal</td>\n",
       "      <td>49.666667</td>\n",
       "      <td>3.386247</td>\n",
       "    </tr>\n",
       "    <tr>\n",
       "      <th>7</th>\n",
       "      <td>Semi-Urban</td>\n",
       "      <td>Snack</td>\n",
       "      <td>48.555556</td>\n",
       "      <td>1.740051</td>\n",
       "    </tr>\n",
       "    <tr>\n",
       "      <th>8</th>\n",
       "      <td>Urban</td>\n",
       "      <td>Buffet</td>\n",
       "      <td>22.835821</td>\n",
       "      <td>8.984770</td>\n",
       "    </tr>\n",
       "    <tr>\n",
       "      <th>9</th>\n",
       "      <td>Urban</td>\n",
       "      <td>Drinks</td>\n",
       "      <td>23.524876</td>\n",
       "      <td>9.244295</td>\n",
       "    </tr>\n",
       "    <tr>\n",
       "      <th>10</th>\n",
       "      <td>Urban</td>\n",
       "      <td>Meal</td>\n",
       "      <td>22.868766</td>\n",
       "      <td>8.797045</td>\n",
       "    </tr>\n",
       "    <tr>\n",
       "      <th>11</th>\n",
       "      <td>Urban</td>\n",
       "      <td>Snack</td>\n",
       "      <td>22.743842</td>\n",
       "      <td>8.778953</td>\n",
       "    </tr>\n",
       "  </tbody>\n",
       "</table>\n",
       "</div>"
      ],
      "text/plain": [
       "           Cidade Tipo de Pedido  Tempo Medio (min)  Desvio Padrão (min)\n",
       "0   Metropolitian         Buffet          27.676606             9.417227\n",
       "1   Metropolitian         Drinks          27.368960             8.853055\n",
       "2   Metropolitian           Meal          27.542530             9.066485\n",
       "3   Metropolitian          Snack          28.103474             9.267615\n",
       "4      Semi-Urban         Buffet          50.250000             2.915476\n",
       "5      Semi-Urban         Drinks          52.250000             2.217356\n",
       "6      Semi-Urban           Meal          49.666667             3.386247\n",
       "7      Semi-Urban          Snack          48.555556             1.740051\n",
       "8           Urban         Buffet          22.835821             8.984770\n",
       "9           Urban         Drinks          23.524876             9.244295\n",
       "10          Urban           Meal          22.868766             8.797045\n",
       "11          Urban          Snack          22.743842             8.778953"
      ]
     },
     "execution_count": 85,
     "metadata": {},
     "output_type": "execute_result"
    }
   ],
   "source": [
    "cols = ['City', 'Time_taken(min)', 'Type_of_order']\n",
    "df_aux = df1.loc[:, cols].groupby(['City', 'Type_of_order']).agg({'Time_taken(min)': ['mean', 'std']})\n",
    "\n",
    "df_aux.columns = ['Tempo Medio (min)', 'Desvio Padrão (min)']\n",
    "\n",
    "df_aux = df_aux.reset_index()\n",
    "\n",
    "df_aux = df_aux.rename(columns={'City': 'Cidade', 'Type_of_order': 'Tipo de Pedido'})\n",
    "\n",
    "df_aux"
   ]
  },
  {
   "cell_type": "code",
   "execution_count": null,
   "id": "13cd49c3",
   "metadata": {},
   "outputs": [],
   "source": []
  }
 ],
 "metadata": {
  "kernelspec": {
   "display_name": "Python 3 (ipykernel)",
   "language": "python",
   "name": "python3"
  },
  "language_info": {
   "codemirror_mode": {
    "name": "ipython",
    "version": 3
   },
   "file_extension": ".py",
   "mimetype": "text/x-python",
   "name": "python",
   "nbconvert_exporter": "python",
   "pygments_lexer": "ipython3",
   "version": "3.11.5"
  }
 },
 "nbformat": 4,
 "nbformat_minor": 5
}
